{
  "nbformat": 4,
  "nbformat_minor": 0,
  "metadata": {
    "colab": {
      "provenance": [],
      "gpuType": "T4"
    },
    "kernelspec": {
      "name": "python3",
      "display_name": "Python 3"
    },
    "language_info": {
      "name": "python"
    },
    "accelerator": "GPU"
  },
  "cells": [
    {
      "cell_type": "code",
      "source": [
        "import tensorflow as tf\n",
        "print(tf.__version__)\n"
      ],
      "metadata": {
        "colab": {
          "base_uri": "https://localhost:8080/"
        },
        "id": "3tMnUP_VQlIu",
        "outputId": "f2467770-b9ee-4efb-f0d7-53461d08d6fd"
      },
      "execution_count": 8,
      "outputs": [
        {
          "output_type": "stream",
          "name": "stdout",
          "text": [
            "2.15.0\n"
          ]
        }
      ]
    },
    {
      "cell_type": "code",
      "execution_count": 1,
      "metadata": {
        "colab": {
          "base_uri": "https://localhost:8080/"
        },
        "id": "WSqYnQ0tD2Kn",
        "outputId": "9216a8b9-68ec-4400-a17f-4f688c8e773e"
      },
      "outputs": [
        {
          "output_type": "stream",
          "name": "stdout",
          "text": [
            "Tue Apr  2 09:03:21 2024       \n",
            "+---------------------------------------------------------------------------------------+\n",
            "| NVIDIA-SMI 535.104.05             Driver Version: 535.104.05   CUDA Version: 12.2     |\n",
            "|-----------------------------------------+----------------------+----------------------+\n",
            "| GPU  Name                 Persistence-M | Bus-Id        Disp.A | Volatile Uncorr. ECC |\n",
            "| Fan  Temp   Perf          Pwr:Usage/Cap |         Memory-Usage | GPU-Util  Compute M. |\n",
            "|                                         |                      |               MIG M. |\n",
            "|=========================================+======================+======================|\n",
            "|   0  Tesla T4                       Off | 00000000:00:04.0 Off |                    0 |\n",
            "| N/A   44C    P8              11W /  70W |      0MiB / 15360MiB |      0%      Default |\n",
            "|                                         |                      |                  N/A |\n",
            "+-----------------------------------------+----------------------+----------------------+\n",
            "                                                                                         \n",
            "+---------------------------------------------------------------------------------------+\n",
            "| Processes:                                                                            |\n",
            "|  GPU   GI   CI        PID   Type   Process name                            GPU Memory |\n",
            "|        ID   ID                                                             Usage      |\n",
            "|=======================================================================================|\n",
            "|  No running processes found                                                           |\n",
            "+---------------------------------------------------------------------------------------+\n"
          ]
        }
      ],
      "source": [
        "!nvidia-smi\n"
      ]
    },
    {
      "cell_type": "code",
      "source": [
        "import os\n",
        "import cv2\n",
        "import numpy as np\n",
        "from typing import List\n",
        "from matplotlib import pyplot as plt\n",
        "from IPython.display import display, Image\n"
      ],
      "metadata": {
        "id": "YIaM_1GwNN9A"
      },
      "execution_count": 2,
      "outputs": []
    },
    {
      "cell_type": "code",
      "source": [
        "from google.colab import drive\n",
        "drive.mount('/content/drive')\n"
      ],
      "metadata": {
        "colab": {
          "base_uri": "https://localhost:8080/"
        },
        "id": "LKF9m9UwyanB",
        "outputId": "3cbb7004-aec6-4a12-e432-5f8cce555712"
      },
      "execution_count": null,
      "outputs": [
        {
          "output_type": "stream",
          "name": "stdout",
          "text": [
            "Mounted at /content/drive\n"
          ]
        }
      ]
    },
    {
      "cell_type": "code",
      "source": [
        "!pip install patool --quiet\n",
        "import patoolib\n",
        "patoolib.extract_archive(\"/content/drive/MyDrive/AI/SK_dataset/melanoma_cancer_dataset.rar\", outdir=\"/content/dataset\")"
      ],
      "metadata": {
        "id": "HHQZTvPeyrOW",
        "colab": {
          "base_uri": "https://localhost:8080/",
          "height": 226
        },
        "outputId": "82621c51-815d-4692-d161-dfc5b348615b"
      },
      "execution_count": 3,
      "outputs": [
        {
          "output_type": "stream",
          "name": "stdout",
          "text": [
            "\u001b[?25l     \u001b[90m━━━━━━━━━━━━━━━━━━━━━━━━━━━━━━━━━━━━━━━━\u001b[0m \u001b[32m0.0/96.0 kB\u001b[0m \u001b[31m?\u001b[0m eta \u001b[36m-:--:--\u001b[0m\r\u001b[2K     \u001b[90m━━━━━━━━━━━━━━━━━━━━━━━━━━━━━━━━━━━━━━━━\u001b[0m \u001b[32m96.0/96.0 kB\u001b[0m \u001b[31m3.7 MB/s\u001b[0m eta \u001b[36m0:00:00\u001b[0m\n",
            "\u001b[?25h"
          ]
        },
        {
          "output_type": "stream",
          "name": "stderr",
          "text": [
            "INFO patool: Extracting /content/drive/MyDrive/AI/SK_dataset/melanoma_cancer_dataset.rar ...\n",
            "INFO:patool:Extracting /content/drive/MyDrive/AI/SK_dataset/melanoma_cancer_dataset.rar ...\n",
            "INFO patool: ... creating output directory `/content/dataset'.\n",
            "INFO:patool:... creating output directory `/content/dataset'.\n",
            "INFO patool: running /usr/bin/unrar x -- /content/drive/MyDrive/AI/SK_dataset/melanoma_cancer_dataset.rar\n",
            "INFO:patool:running /usr/bin/unrar x -- /content/drive/MyDrive/AI/SK_dataset/melanoma_cancer_dataset.rar\n",
            "INFO patool:     with cwd='/content/dataset', input=''\n",
            "INFO:patool:    with cwd='/content/dataset', input=''\n",
            "INFO patool: ... /content/drive/MyDrive/AI/SK_dataset/melanoma_cancer_dataset.rar extracted to `/content/dataset'.\n",
            "INFO:patool:... /content/drive/MyDrive/AI/SK_dataset/melanoma_cancer_dataset.rar extracted to `/content/dataset'.\n"
          ]
        },
        {
          "output_type": "execute_result",
          "data": {
            "text/plain": [
              "'/content/dataset'"
            ],
            "application/vnd.google.colaboratory.intrinsic+json": {
              "type": "string"
            }
          },
          "metadata": {},
          "execution_count": 3
        }
      ]
    },
    {
      "cell_type": "code",
      "source": [
        "#prevent exponentially memory growth\n",
        "physical_devices = tf.config.list_physical_devices(\"GPU\")\n",
        "try:\n",
        "  tf.config.experimental.set_memory_growth(physical_devices[0], True)\n",
        "except:\n",
        "  pass"
      ],
      "metadata": {
        "id": "Se-Rv8MMNafd"
      },
      "execution_count": 9,
      "outputs": []
    },
    {
      "cell_type": "code",
      "source": [
        "import os\n",
        "HOME = os.getcwd()\n",
        "print(HOME)"
      ],
      "metadata": {
        "colab": {
          "base_uri": "https://localhost:8080/"
        },
        "id": "dgVQTUk8EGcQ",
        "outputId": "01c5aa2a-f1bf-4091-c00e-8033eaa315fa"
      },
      "execution_count": null,
      "outputs": [
        {
          "output_type": "stream",
          "name": "stdout",
          "text": [
            "/content\n"
          ]
        }
      ]
    },
    {
      "cell_type": "code",
      "source": [
        "#!pip install roboflow --quiet\n",
        "\n",
        "#from roboflow import Roboflow\n",
        "#rf = Roboflow(api_key=\"EX21p6P3sYw3SwyBkyQQ\")\n",
        "#project = rf.workspace(\"martin-rpfil\").project(\"skin-cancer-ihubf\")\n",
        "#version = project.version(1)\n",
        "#dataset = version.download(\"folder\")\n"
      ],
      "metadata": {
        "colab": {
          "base_uri": "https://localhost:8080/"
        },
        "id": "-CmiSiXWEbiv",
        "outputId": "e7498f82-9015-4854-9834-b33156698f12"
      },
      "execution_count": null,
      "outputs": [
        {
          "output_type": "stream",
          "name": "stdout",
          "text": [
            "loading Roboflow workspace...\n",
            "loading Roboflow project...\n"
          ]
        }
      ]
    },
    {
      "cell_type": "code",
      "source": [
        "import os\n",
        "import shutil\n",
        "from sklearn.model_selection import train_test_split\n",
        "\n",
        "# Paths configuration\n",
        "base_dir = '/content/dataset/melanoma_cancer_dataset'  # Update this to your dataset's path\n",
        "train_dir = os.path.join(base_dir, 'train')\n",
        "test_dir = os.path.join(base_dir, 'test')  # Assuming you already have this\n",
        "validation_dir = os.path.join(base_dir, 'valid')  # Validation directory to create\n",
        "\n",
        "classes = ['benign', 'malignant']  # Class names\n",
        "\n",
        "# Create validation directory and class subdirectories\n",
        "if not os.path.exists(validation_dir):\n",
        "    os.mkdir(validation_dir)\n",
        "    for cls in classes:\n",
        "        os.mkdir(os.path.join(validation_dir, cls))\n",
        "\n",
        "# Split ratio configuration\n",
        "split_ratio = 0.2  # 20% for validation\n",
        "\n",
        "# Move a subset of images for each class from training to validation\n",
        "for cls in classes:\n",
        "    class_dir = os.path.join(train_dir, cls)\n",
        "    images = os.listdir(class_dir)\n",
        "\n",
        "    # Split images into training and validation\n",
        "    train_imgs, valid_imgs = train_test_split(images, test_size=split_ratio, random_state=42)\n",
        "\n",
        "    # Move validation images to validation directory\n",
        "    for img in valid_imgs:\n",
        "        src_path = os.path.join(class_dir, img)\n",
        "        dest_path = os.path.join(validation_dir, cls, img)\n",
        "        shutil.move(src_path, dest_path)\n",
        "\n",
        "print(\"Data split into training and validation sets.\")\n"
      ],
      "metadata": {
        "colab": {
          "base_uri": "https://localhost:8080/"
        },
        "id": "UH-ZhkaL0RQe",
        "outputId": "9a59ac10-ca5d-4003-a85a-9ce4a0bacde9"
      },
      "execution_count": 5,
      "outputs": [
        {
          "output_type": "stream",
          "name": "stdout",
          "text": [
            "Data split into training and validation sets.\n"
          ]
        }
      ]
    },
    {
      "cell_type": "code",
      "source": [
        "from tensorflow.keras.preprocessing.image import ImageDataGenerator\n",
        "\n",
        "# Define directories for your dataset\n",
        "base_dir = '/content/dataset/melanoma_cancer_dataset/'\n",
        "train_dir = f'{base_dir}/train'\n",
        "validation_dir = f'{base_dir}/valid'\n",
        "test_dir = f'{base_dir}/test'\n",
        "\n",
        "# Initialize the data generators\n",
        "train_datagen = ImageDataGenerator(\n",
        "    rescale=1./255,\n",
        "    rotation_range=20,\n",
        "    width_shift_range=0.2,\n",
        "    height_shift_range=0.2,\n",
        "    horizontal_flip=True\n",
        "    )\n",
        "\n",
        "test_datagen = ImageDataGenerator(rescale=1./255)  # No augmentation for validation/test data\n",
        "\n",
        "train_generator = train_datagen.flow_from_directory(\n",
        "    train_dir,\n",
        "    target_size=(224, 224),  # Resize images to fit MobileNetV2 input requirements\n",
        "    batch_size=64,\n",
        "    class_mode='binary')\n",
        "\n",
        "validation_generator = test_datagen.flow_from_directory(\n",
        "    validation_dir,\n",
        "    target_size=(224, 224),\n",
        "    batch_size=64,\n",
        "    class_mode='binary')\n",
        "\n",
        "test_generator = test_datagen.flow_from_directory(\n",
        "    test_dir,\n",
        "    target_size=(224, 224),\n",
        "    batch_size=64,\n",
        "    class_mode='binary')\n"
      ],
      "metadata": {
        "colab": {
          "base_uri": "https://localhost:8080/"
        },
        "id": "8h7Zd9DZFPDF",
        "outputId": "afa99fa3-09fa-4d3c-a272-7774d31d74d2"
      },
      "execution_count": 6,
      "outputs": [
        {
          "output_type": "stream",
          "name": "stdout",
          "text": [
            "Found 7684 images belonging to 2 classes.\n",
            "Found 1921 images belonging to 2 classes.\n",
            "Found 1000 images belonging to 2 classes.\n"
          ]
        }
      ]
    },
    {
      "cell_type": "markdown",
      "source": [
        "# The ideal Learning rate, optimizer and layers to unfreeze for fine-tuning"
      ],
      "metadata": {
        "id": "RcdJdHimWxu4"
      }
    },
    {
      "cell_type": "code",
      "source": [
        "import math\n",
        "import matplotlib.pyplot as plt\n",
        "from tensorflow.keras.callbacks import Callback\n",
        "from tensorflow.keras.models import Sequential\n",
        "from tensorflow.keras.layers import GlobalAveragePooling2D, Dropout, Dense\n",
        "from tensorflow.keras.applications import MobileNetV2\n",
        "from tensorflow.keras.optimizers import Adam\n",
        "\n",
        "class LRFinder(Callback):\n",
        "    def __init__(self, min_lr=1e-7, max_lr=1, steps_per_epoch=None, epochs=None):\n",
        "        super().__init__()\n",
        "        self.min_lr = min_lr\n",
        "        self.max_lr = max_lr\n",
        "        self.total_iterations = steps_per_epoch * epochs\n",
        "        self.iteration = 0\n",
        "        self.history = {}\n",
        "\n",
        "    def clr(self):\n",
        "        \"\"\" Calculate the learning rate. \"\"\"\n",
        "        x = self.iteration / self.total_iterations\n",
        "        return self.min_lr + (self.max_lr-self.min_lr) * x\n",
        "\n",
        "    def on_train_begin(self, logs=None):\n",
        "        \"\"\" Initialize the learning rate to the minimum value at the start of training. \"\"\"\n",
        "        logs = logs or {}\n",
        "        tf.keras.backend.set_value(self.model.optimizer.lr, self.min_lr)\n",
        "\n",
        "    def on_batch_end(self, epoch, logs=None):\n",
        "        \"\"\" Update the learning rate and record the current learning rate and loss. \"\"\"\n",
        "        logs = logs or {}\n",
        "        self.iteration += 1\n",
        "\n",
        "        lr = self.clr()\n",
        "        self.history.setdefault('lr', []).append(lr)\n",
        "        self.history.setdefault('loss', []).append(logs.get('loss'))\n",
        "\n",
        "        tf.keras.backend.set_value(self.model.optimizer.lr, lr)\n",
        "\n",
        "# Example usage\n",
        "base_model = MobileNetV2(weights='imagenet', include_top=False, input_shape=(224, 224, 3))\n",
        "model = Sequential([\n",
        "    base_model,\n",
        "    GlobalAveragePooling2D(),\n",
        "    Dropout(0.2),\n",
        "    Dense(1, activation='sigmoid')\n",
        "])\n",
        "model.compile(optimizer=Adam(), loss='binary_crossentropy')\n",
        "\n",
        "\n",
        "lr_finder = LRFinder(min_lr=1e-7, max_lr=1, steps_per_epoch=np.ceil(train_generator.samples/train_generator.batch_size), epochs=3)\n",
        "\n",
        "model.fit(train_generator, steps_per_epoch=np.ceil(train_generator.samples/train_generator.batch_size), epochs=3, callbacks=[lr_finder])\n",
        "\n",
        "# Plotting the results\n",
        "plt.figure(figsize=(10, 4))\n",
        "plt.plot(lr_finder.history['lr'], lr_finder.history['loss'])\n",
        "plt.xscale('log')\n",
        "plt.xlabel('Learning rate')\n",
        "plt.ylabel('Loss')\n",
        "plt.title('Learning rate vs. Loss')\n",
        "plt.show()\n"
      ],
      "metadata": {
        "colab": {
          "base_uri": "https://localhost:8080/",
          "height": 519
        },
        "id": "Q7P8eGoeW_F6",
        "outputId": "bea43b97-d624-4f89-91b7-200604144260"
      },
      "execution_count": 10,
      "outputs": [
        {
          "output_type": "stream",
          "name": "stdout",
          "text": [
            "Epoch 1/3\n",
            "121/121 [==============================] - 145s 911ms/step - loss: 1.0607\n",
            "Epoch 2/3\n",
            "121/121 [==============================] - 110s 912ms/step - loss: 0.5640\n",
            "Epoch 3/3\n",
            "121/121 [==============================] - 116s 952ms/step - loss: 0.5299\n"
          ]
        },
        {
          "output_type": "display_data",
          "data": {
            "text/plain": [
              "<Figure size 1000x400 with 1 Axes>"
            ],
            "image/png": "[encoded data removed]"
          },
          "metadata": {}
        }
      ]
    },
    {
      "cell_type": "markdown",
      "source": [
        "# Let's do some testing"
      ],
      "metadata": {
        "id": "9CiKiJjoFKi0"
      }
    },
    {
      "cell_type": "code",
      "source": [
        "import tensorflow as tf\n",
        "from tensorflow.keras.applications import MobileNetV2\n",
        "from tensorflow.keras.layers import GlobalAveragePooling2D, Dropout, Dense\n",
        "from tensorflow.keras.models import Sequential\n",
        "from tensorflow.keras.optimizers import Adam, SGD, RMSprop\n",
        "import math\n",
        "from tensorflow.keras.callbacks import EarlyStopping, LearningRateScheduler, ModelCheckpoint\n",
        "\n",
        "# Define your parameter grid\n",
        "learning_rates = [1e-2, 5e-2, 1e-1]\n",
        "optimizers = [Adam, SGD, RMSprop]\n",
        "fine_tune_layers = [50, 80, 110, 153]  # Starting points for fine-tuning\n",
        "\n",
        "# Placeholder for recording the results\n",
        "results = []\n",
        "\n",
        "for lr in learning_rates:\n",
        "    for opt_class in optimizers:\n",
        "        for fine_tune_at in fine_tune_layers:\n",
        "            print(f\"Training with LR: {lr}, Optimizer: {opt_class.__name__}, Fine-tuning at layer: {fine_tune_at}\")\n",
        "\n",
        "            # Reinitialize the model with MobileNetV2 as the base\n",
        "            base_model = MobileNetV2(weights='imagenet', include_top=False, input_shape=(224, 224, 3))\n",
        "            base_model.trainable = False\n",
        "\n",
        "            model = Sequential([\n",
        "                base_model,\n",
        "                GlobalAveragePooling2D(),\n",
        "                Dropout(0.2),\n",
        "                Dense(1, activation='sigmoid')\n",
        "            ])\n",
        "\n",
        "            optimizer = opt_class(learning_rate=lr)\n",
        "            model.compile(optimizer=optimizer, loss='binary_crossentropy', metrics=['accuracy'])\n",
        "\n",
        "\n",
        "                        # Function for step decay schedule\n",
        "            def step_decay(epoch):\n",
        "                initial_lr = 0.001  # Starting learning rate\n",
        "                drop = 0.5  # Reduce learning rate by half\n",
        "                epochs_drop = 10.0  # Reduce every 10 epochs\n",
        "                lr = initial_lr * math.pow(drop, math.floor((1+epoch)/epochs_drop))\n",
        "                return lr\n",
        "\n",
        "            # Define the Early Stopping callback\n",
        "            early_stopping = EarlyStopping(\n",
        "                monitor='val_loss',  # Monitor validation loss\n",
        "                patience=5,  # Number of epochs with no improvement after which training will be stopped\n",
        "                restore_best_weights=True)  # Restore model weights from the epoch with the best value of the monitored metric\n",
        "\n",
        "            # Set up callbacks\n",
        "            early_stopping = EarlyStopping(monitor='val_loss', patience=5, verbose=1, mode='min', restore_best_weights=True)\n",
        "            model_checkpoint = ModelCheckpoint('best_model.h5', monitor='val_accuracy', save_best_only=True, mode='max', verbose=1)\n",
        "            lr_scheduler = LearningRateScheduler(step_decay)\n",
        "\n",
        "            # Fit the model\n",
        "            history = model.fit(\n",
        "                train_generator,\n",
        "                steps_per_epoch=train_generator.samples // train_generator.batch_size,\n",
        "                epochs=30,  # Adjust epochs based on your needs\n",
        "                validation_data=validation_generator,\n",
        "                validation_steps=validation_generator.samples // validation_generator.batch_size,\n",
        "                callbacks=[lr_scheduler, early_stopping, model_checkpoint]\n",
        "            )\n",
        "\n",
        "            # Unfreeze the top layers for fine-tuning\n",
        "            base_model.trainable = True\n",
        "            for layer in base_model.layers[:fine_tune_at]:\n",
        "                layer.trainable = False\n",
        "\n",
        "            # Compile the model for fine-tuning with a lower learning rate\n",
        "            model.compile(optimizer=opt_class(lr=1e-5), loss='binary_crossentropy', metrics=['accuracy'])\n",
        "\n",
        "            # Fit the model again (fine-tuning)\n",
        "            history_fine = model.fit(\n",
        "                train_generator,\n",
        "                steps_per_epoch=train_generator.samples // train_generator.batch_size,\n",
        "                epochs=20,  # Adjust based on your needs\n",
        "                validation_data=validation_generator,\n",
        "                validation_steps=validation_generator.samples // validation_generator.batch_size,\n",
        "                callbacks=[early_stopping, lr_scheduler, model_checkpoint]\n",
        "            )\n",
        "\n",
        "            # Get the best validation accuracy from the fine-tuning phase\n",
        "            best_val_accuracy = max(history_fine.history['val_accuracy'])\n",
        "            print(f\"Best validation accuracy: {best_val_accuracy}\")\n",
        "\n",
        "            # Record the results\n",
        "            results.append({\n",
        "                'lr': lr,\n",
        "                'optimizer': opt_class.__name__,\n",
        "                'fine_tune_at': fine_tune_at,\n",
        "                'val_accuracy': best_val_accuracy\n",
        "            })\n",
        "\n",
        "# Write results to a file or print them out\n",
        "with open('model_tuning_results.txt', 'w') as f:\n",
        "    for result in results:\n",
        "        f.write(f\"LR: {result['lr']}, Optimizer: {result['optimizer']}, Fine-tune Start Layer: {result['fine_tune_at']}, \"\n",
        "                f\"Best Val Accuracy: {result['val_accuracy']:.4f}\\n\")\n"
      ],
      "metadata": {
        "colab": {
          "base_uri": "https://localhost:8080/"
        },
        "id": "5MLGyvZMWAAc",
        "outputId": "d8d313d5-373e-44d4-ee60-31cda50d8c0d"
      },
      "execution_count": null,
      "outputs": [
        {
          "metadata": {
            "tags": null
          },
          "name": "stdout",
          "output_type": "stream",
          "text": [
            "Training with LR: 0.01, Optimizer: Adam, Fine-tuning at layer: 50\n",
            "Epoch 1/30\n",
            "60/60 [==============================] - ETA: 0s - loss: 0.4430 - accuracy: 0.7914\n",
            "Epoch 1: val_accuracy improved from -inf to 0.84167, saving model to best_model.h5\n"
          ]
        },
        {
          "metadata": {
            "tags": null
          },
          "name": "stderr",
          "output_type": "stream",
          "text": [
            "/usr/local/lib/python3.10/dist-packages/keras/src/engine/training.py:3103: UserWarning: You are saving your model as an HDF5 file via `model.save()`. This file format is considered legacy. We recommend using instead the native Keras format, e.g. `model.save('my_model.keras')`.\n",
            "  saving_api.save_model(\n"
          ]
        },
        {
          "metadata": {
            "tags": null
          },
          "name": "stdout",
          "output_type": "stream",
          "text": [
            "60/60 [==============================] - 105s 2s/step - loss: 0.4430 - accuracy: 0.7914 - val_loss: 0.3513 - val_accuracy: 0.8417 - lr: 0.0010\n",
            "Epoch 2/30\n",
            "60/60 [==============================] - ETA: 0s - loss: 0.3449 - accuracy: 0.8526\n",
            "Epoch 2: val_accuracy improved from 0.84167 to 0.85521, saving model to best_model.h5\n",
            "60/60 [==============================] - 102s 2s/step - loss: 0.3449 - accuracy: 0.8526 - val_loss: 0.3279 - val_accuracy: 0.8552 - lr: 0.0010\n",
            "Epoch 3/30\n",
            "60/60 [==============================] - ETA: 0s - loss: 0.3149 - accuracy: 0.8665\n",
            "Epoch 3: val_accuracy improved from 0.85521 to 0.86667, saving model to best_model.h5\n",
            "60/60 [==============================] - 101s 2s/step - loss: 0.3149 - accuracy: 0.8665 - val_loss: 0.3115 - val_accuracy: 0.8667 - lr: 0.0010\n",
            "Epoch 4/30\n",
            "60/60 [==============================] - ETA: 0s - loss: 0.3140 - accuracy: 0.8673\n",
            "Epoch 4: val_accuracy improved from 0.86667 to 0.87031, saving model to best_model.h5\n",
            "60/60 [==============================] - 102s 2s/step - loss: 0.3140 - accuracy: 0.8673 - val_loss: 0.3061 - val_accuracy: 0.8703 - lr: 0.0010\n",
            "Epoch 5/30\n",
            "60/60 [==============================] - ETA: 0s - loss: 0.2986 - accuracy: 0.8723\n",
            "Epoch 5: val_accuracy improved from 0.87031 to 0.87187, saving model to best_model.h5\n",
            "60/60 [==============================] - 99s 2s/step - loss: 0.2986 - accuracy: 0.8723 - val_loss: 0.2992 - val_accuracy: 0.8719 - lr: 0.0010\n",
            "Epoch 6/30\n",
            "60/60 [==============================] - ETA: 0s - loss: 0.2913 - accuracy: 0.8719\n",
            "Epoch 6: val_accuracy improved from 0.87187 to 0.87396, saving model to best_model.h5\n",
            "60/60 [==============================] - 101s 2s/step - loss: 0.2913 - accuracy: 0.8719 - val_loss: 0.2967 - val_accuracy: 0.8740 - lr: 0.0010\n",
            "Epoch 7/30\n",
            "60/60 [==============================] - ETA: 0s - loss: 0.2896 - accuracy: 0.8768\n",
            "Epoch 7: val_accuracy improved from 0.87396 to 0.88177, saving model to best_model.h5\n",
            "60/60 [==============================] - 102s 2s/step - loss: 0.2896 - accuracy: 0.8768 - val_loss: 0.2935 - val_accuracy: 0.8818 - lr: 0.0010\n",
            "Epoch 8/30\n",
            "60/60 [==============================] - ETA: 0s - loss: 0.2831 - accuracy: 0.8818\n",
            "Epoch 8: val_accuracy improved from 0.88177 to 0.88229, saving model to best_model.h5\n",
            "60/60 [==============================] - 102s 2s/step - loss: 0.2831 - accuracy: 0.8818 - val_loss: 0.2908 - val_accuracy: 0.8823 - lr: 0.0010\n",
            "Epoch 9/30\n",
            "60/60 [==============================] - ETA: 0s - loss: 0.2822 - accuracy: 0.8806\n",
            "Epoch 9: val_accuracy did not improve from 0.88229\n",
            "60/60 [==============================] - 104s 2s/step - loss: 0.2822 - accuracy: 0.8806 - val_loss: 0.2907 - val_accuracy: 0.8818 - lr: 0.0010\n",
            "Epoch 10/30\n",
            "60/60 [==============================] - ETA: 0s - loss: 0.2780 - accuracy: 0.8899\n",
            "Epoch 10: val_accuracy improved from 0.88229 to 0.88490, saving model to best_model.h5\n",
            "60/60 [==============================] - 102s 2s/step - loss: 0.2780 - accuracy: 0.8899 - val_loss: 0.2891 - val_accuracy: 0.8849 - lr: 5.0000e-04\n",
            "Epoch 11/30\n",
            "60/60 [==============================] - ETA: 0s - loss: 0.2807 - accuracy: 0.8849\n",
            "Epoch 11: val_accuracy did not improve from 0.88490\n",
            "60/60 [==============================] - 100s 2s/step - loss: 0.2807 - accuracy: 0.8849 - val_loss: 0.2868 - val_accuracy: 0.8849 - lr: 5.0000e-04\n",
            "Epoch 12/30\n",
            "60/60 [==============================] - ETA: 0s - loss: 0.2779 - accuracy: 0.8853\n",
            "Epoch 12: val_accuracy did not improve from 0.88490\n",
            "60/60 [==============================] - 100s 2s/step - loss: 0.2779 - accuracy: 0.8853 - val_loss: 0.2872 - val_accuracy: 0.8828 - lr: 5.0000e-04\n",
            "Epoch 13/30\n",
            "60/60 [==============================] - ETA: 0s - loss: 0.2792 - accuracy: 0.8842\n",
            "Epoch 13: val_accuracy did not improve from 0.88490\n",
            "60/60 [==============================] - 99s 2s/step - loss: 0.2792 - accuracy: 0.8842 - val_loss: 0.2854 - val_accuracy: 0.8786 - lr: 5.0000e-04\n",
            "Epoch 14/30\n",
            "60/60 [==============================] - ETA: 0s - loss: 0.2757 - accuracy: 0.8847\n",
            "Epoch 14: val_accuracy improved from 0.88490 to 0.88594, saving model to best_model.h5\n",
            "60/60 [==============================] - 102s 2s/step - loss: 0.2757 - accuracy: 0.8847 - val_loss: 0.2845 - val_accuracy: 0.8859 - lr: 5.0000e-04\n",
            "Epoch 15/30\n",
            "60/60 [==============================] - ETA: 0s - loss: 0.2754 - accuracy: 0.8818\n",
            "Epoch 15: val_accuracy did not improve from 0.88594\n",
            "60/60 [==============================] - 101s 2s/step - loss: 0.2754 - accuracy: 0.8818 - val_loss: 0.2821 - val_accuracy: 0.8833 - lr: 5.0000e-04\n",
            "Epoch 16/30\n",
            "60/60 [==============================] - ETA: 0s - loss: 0.2762 - accuracy: 0.8859\n",
            "Epoch 16: val_accuracy did not improve from 0.88594\n",
            "60/60 [==============================] - 100s 2s/step - loss: 0.2762 - accuracy: 0.8859 - val_loss: 0.2858 - val_accuracy: 0.8859 - lr: 5.0000e-04\n",
            "Epoch 17/30\n",
            "60/60 [==============================] - ETA: 0s - loss: 0.2770 - accuracy: 0.8850\n",
            "Epoch 17: val_accuracy did not improve from 0.88594\n",
            "60/60 [==============================] - 101s 2s/step - loss: 0.2770 - accuracy: 0.8850 - val_loss: 0.2825 - val_accuracy: 0.8859 - lr: 5.0000e-04\n",
            "Epoch 18/30\n",
            "60/60 [==============================] - ETA: 0s - loss: 0.2737 - accuracy: 0.8867\n",
            "Epoch 18: val_accuracy did not improve from 0.88594\n",
            "60/60 [==============================] - 100s 2s/step - loss: 0.2737 - accuracy: 0.8867 - val_loss: 0.2831 - val_accuracy: 0.8823 - lr: 5.0000e-04\n",
            "Epoch 19/30\n",
            "60/60 [==============================] - ETA: 0s - loss: 0.2711 - accuracy: 0.8838\n",
            "Epoch 19: val_accuracy did not improve from 0.88594\n",
            "60/60 [==============================] - 100s 2s/step - loss: 0.2711 - accuracy: 0.8838 - val_loss: 0.2873 - val_accuracy: 0.8844 - lr: 5.0000e-04\n",
            "Epoch 20/30\n",
            "60/60 [==============================] - ETA: 0s - loss: 0.2745 - accuracy: 0.8833\n",
            "Epoch 20: val_accuracy did not improve from 0.88594\n",
            "60/60 [==============================] - 102s 2s/step - loss: 0.2745 - accuracy: 0.8833 - val_loss: 0.2808 - val_accuracy: 0.8849 - lr: 2.5000e-04\n",
            "Epoch 21/30\n",
            "60/60 [==============================] - ETA: 0s - loss: 0.2700 - accuracy: 0.8872\n",
            "Epoch 21: val_accuracy did not improve from 0.88594\n",
            "60/60 [==============================] - 102s 2s/step - loss: 0.2700 - accuracy: 0.8872 - val_loss: 0.2794 - val_accuracy: 0.8854 - lr: 2.5000e-04\n",
            "Epoch 22/30\n",
            "60/60 [==============================] - ETA: 0s - loss: 0.2690 - accuracy: 0.8880\n",
            "Epoch 22: val_accuracy did not improve from 0.88594\n",
            "60/60 [==============================] - 101s 2s/step - loss: 0.2690 - accuracy: 0.8880 - val_loss: 0.2798 - val_accuracy: 0.8854 - lr: 2.5000e-04\n",
            "Epoch 23/30\n",
            "60/60 [==============================] - ETA: 0s - loss: 0.2654 - accuracy: 0.8920\n",
            "Epoch 23: val_accuracy did not improve from 0.88594\n",
            "60/60 [==============================] - 99s 2s/step - loss: 0.2654 - accuracy: 0.8920 - val_loss: 0.2798 - val_accuracy: 0.8839 - lr: 2.5000e-04\n",
            "Epoch 24/30\n",
            "60/60 [==============================] - ETA: 0s - loss: 0.2684 - accuracy: 0.8880\n",
            "Epoch 24: val_accuracy did not improve from 0.88594\n",
            "60/60 [==============================] - 102s 2s/step - loss: 0.2684 - accuracy: 0.8880 - val_loss: 0.2803 - val_accuracy: 0.8859 - lr: 2.5000e-04\n",
            "Epoch 25/30\n",
            "60/60 [==============================] - ETA: 0s - loss: 0.2731 - accuracy: 0.8834\n",
            "Epoch 25: val_accuracy improved from 0.88594 to 0.88854, saving model to best_model.h5\n",
            "60/60 [==============================] - 102s 2s/step - loss: 0.2731 - accuracy: 0.8834 - val_loss: 0.2806 - val_accuracy: 0.8885 - lr: 2.5000e-04\n",
            "Epoch 26/30\n",
            "60/60 [==============================] - ETA: 0s - loss: 0.2769 - accuracy: 0.8813Restoring model weights from the end of the best epoch: 21.\n",
            "\n",
            "Epoch 26: val_accuracy did not improve from 0.88854\n",
            "60/60 [==============================] - 101s 2s/step - loss: 0.2769 - accuracy: 0.8813 - val_loss: 0.2797 - val_accuracy: 0.8849 - lr: 2.5000e-04\n",
            "Epoch 26: early stopping\n"
          ]
        },
        {
          "metadata": {
            "tags": null
          },
          "name": "stderr",
          "output_type": "stream",
          "text": [
            "WARNING:absl:`lr` is deprecated in Keras optimizer, please use `learning_rate` or use the legacy optimizer, e.g.,tf.keras.optimizers.legacy.Adam.\n"
          ]
        },
        {
          "metadata": {
            "tags": null
          },
          "name": "stdout",
          "output_type": "stream",
          "text": [
            "Epoch 1/20\n",
            "60/60 [==============================] - ETA: 0s - loss: 0.2938 - accuracy: 0.8878\n",
            "Epoch 1: val_accuracy did not improve from 0.88854\n",
            "60/60 [==============================] - 118s 2s/step - loss: 0.2938 - accuracy: 0.8878 - val_loss: 6.8432 - val_accuracy: 0.5932 - lr: 0.0010\n",
            "Epoch 2/20\n",
            "60/60 [==============================] - ETA: 0s - loss: 0.1901 - accuracy: 0.9252\n",
            "Epoch 2: val_accuracy did not improve from 0.88854\n",
            "60/60 [==============================] - 108s 2s/step - loss: 0.1901 - accuracy: 0.9252 - val_loss: 7.0672 - val_accuracy: 0.5792 - lr: 0.0010\n",
            "Epoch 3/20\n",
            "60/60 [==============================] - ETA: 0s - loss: 0.1842 - accuracy: 0.9259\n",
            "Epoch 3: val_accuracy did not improve from 0.88854\n",
            "60/60 [==============================] - 105s 2s/step - loss: 0.1842 - accuracy: 0.9259 - val_loss: 5.7760 - val_accuracy: 0.6255 - lr: 0.0010\n",
            "Epoch 4/20\n",
            "60/60 [==============================] - ETA: 0s - loss: 0.1707 - accuracy: 0.9334\n",
            "Epoch 4: val_accuracy did not improve from 0.88854\n",
            "60/60 [==============================] - 105s 2s/step - loss: 0.1707 - accuracy: 0.9334 - val_loss: 1.3671 - val_accuracy: 0.7604 - lr: 0.0010\n",
            "Epoch 5/20\n",
            "60/60 [==============================] - ETA: 0s - loss: 0.1683 - accuracy: 0.9341\n",
            "Epoch 5: val_accuracy did not improve from 0.88854\n",
            "60/60 [==============================] - 103s 2s/step - loss: 0.1683 - accuracy: 0.9341 - val_loss: 3.4261 - val_accuracy: 0.6849 - lr: 0.0010\n",
            "Epoch 6/20\n",
            "60/60 [==============================] - ETA: 0s - loss: 0.2193 - accuracy: 0.9164\n",
            "Epoch 6: val_accuracy did not improve from 0.88854\n",
            "60/60 [==============================] - 107s 2s/step - loss: 0.2193 - accuracy: 0.9164 - val_loss: 3.5768 - val_accuracy: 0.5365 - lr: 0.0010\n",
            "Epoch 7/20\n",
            "60/60 [==============================] - ETA: 0s - loss: 0.1712 - accuracy: 0.9313\n",
            "Epoch 7: val_accuracy did not improve from 0.88854\n",
            "60/60 [==============================] - 110s 2s/step - loss: 0.1712 - accuracy: 0.9313 - val_loss: 3.3140 - val_accuracy: 0.5500 - lr: 0.0010\n",
            "Epoch 8/20\n",
            "59/60 [============================>.] - ETA: 1s - loss: 0.1450 - accuracy: 0.9420\n",
            "Epoch 8: val_accuracy did not improve from 0.88854\n",
            "60/60 [==============================] - 109s 2s/step - loss: 0.1449 - accuracy: 0.9420 - val_loss: 3.8639 - val_accuracy: 0.5495 - lr: 0.0010\n",
            "Epoch 9/20\n",
            "60/60 [==============================] - ETA: 0s - loss: 0.1417 - accuracy: 0.9424Restoring model weights from the end of the best epoch: 4.\n",
            "\n",
            "Epoch 9: val_accuracy did not improve from 0.88854\n",
            "60/60 [==============================] - 112s 2s/step - loss: 0.1417 - accuracy: 0.9424 - val_loss: 3.9260 - val_accuracy: 0.5354 - lr: 0.0010\n",
            "Epoch 9: early stopping\n",
            "Best validation accuracy: 0.7604166865348816\n",
            "Training with LR: 0.01, Optimizer: Adam, Fine-tuning at layer: 80\n",
            "Epoch 1/30\n",
            "60/60 [==============================] - ETA: 0s - loss: 0.4686 - accuracy: 0.7747\n",
            "Epoch 1: val_accuracy improved from -inf to 0.83698, saving model to best_model.h5\n",
            "60/60 [==============================] - 104s 2s/step - loss: 0.4686 - accuracy: 0.7747 - val_loss: 0.3730 - val_accuracy: 0.8370 - lr: 0.0010\n",
            "Epoch 2/30\n",
            "60/60 [==============================] - ETA: 0s - loss: 0.3603 - accuracy: 0.8421\n",
            "Epoch 2: val_accuracy improved from 0.83698 to 0.85208, saving model to best_model.h5\n",
            "60/60 [==============================] - 102s 2s/step - loss: 0.3603 - accuracy: 0.8421 - val_loss: 0.3344 - val_accuracy: 0.8521 - lr: 0.0010\n",
            "Epoch 3/30\n",
            "60/60 [==============================] - ETA: 0s - loss: 0.3309 - accuracy: 0.8538\n",
            "Epoch 3: val_accuracy improved from 0.85208 to 0.86250, saving model to best_model.h5\n",
            "60/60 [==============================] - 102s 2s/step - loss: 0.3309 - accuracy: 0.8538 - val_loss: 0.3182 - val_accuracy: 0.8625 - lr: 0.0010\n",
            "Epoch 4/30\n",
            "60/60 [==============================] - ETA: 0s - loss: 0.3142 - accuracy: 0.8645\n",
            "Epoch 4: val_accuracy did not improve from 0.86250\n",
            "60/60 [==============================] - 101s 2s/step - loss: 0.3142 - accuracy: 0.8645 - val_loss: 0.3311 - val_accuracy: 0.8578 - lr: 0.0010\n",
            "Epoch 5/30\n",
            "60/60 [==============================] - ETA: 0s - loss: 0.3048 - accuracy: 0.8695\n",
            "Epoch 5: val_accuracy improved from 0.86250 to 0.87135, saving model to best_model.h5\n",
            "60/60 [==============================] - 102s 2s/step - loss: 0.3048 - accuracy: 0.8695 - val_loss: 0.3098 - val_accuracy: 0.8714 - lr: 0.0010\n",
            "Epoch 6/30\n",
            "60/60 [==============================] - ETA: 0s - loss: 0.2929 - accuracy: 0.8768\n",
            "Epoch 6: val_accuracy improved from 0.87135 to 0.87396, saving model to best_model.h5\n",
            "60/60 [==============================] - 103s 2s/step - loss: 0.2929 - accuracy: 0.8768 - val_loss: 0.3044 - val_accuracy: 0.8740 - lr: 0.0010\n",
            "Epoch 7/30\n",
            "60/60 [==============================] - ETA: 0s - loss: 0.2968 - accuracy: 0.8736\n",
            "Epoch 7: val_accuracy improved from 0.87396 to 0.87760, saving model to best_model.h5\n",
            "60/60 [==============================] - 101s 2s/step - loss: 0.2968 - accuracy: 0.8736 - val_loss: 0.2999 - val_accuracy: 0.8776 - lr: 0.0010\n",
            "Epoch 8/30\n",
            "60/60 [==============================] - ETA: 0s - loss: 0.2844 - accuracy: 0.8816\n",
            "Epoch 8: val_accuracy did not improve from 0.87760\n",
            "60/60 [==============================] - 102s 2s/step - loss: 0.2844 - accuracy: 0.8816 - val_loss: 0.2933 - val_accuracy: 0.8740 - lr: 0.0010\n",
            "Epoch 9/30\n",
            "60/60 [==============================] - ETA: 0s - loss: 0.2863 - accuracy: 0.8769\n",
            "Epoch 9: val_accuracy did not improve from 0.87760\n",
            "60/60 [==============================] - 102s 2s/step - loss: 0.2863 - accuracy: 0.8769 - val_loss: 0.2945 - val_accuracy: 0.8745 - lr: 0.0010\n",
            "Epoch 10/30\n",
            "60/60 [==============================] - ETA: 0s - loss: 0.2803 - accuracy: 0.8829\n",
            "Epoch 10: val_accuracy improved from 0.87760 to 0.87813, saving model to best_model.h5\n",
            "60/60 [==============================] - 103s 2s/step - loss: 0.2803 - accuracy: 0.8829 - val_loss: 0.2908 - val_accuracy: 0.8781 - lr: 5.0000e-04\n",
            "Epoch 11/30\n",
            "60/60 [==============================] - ETA: 0s - loss: 0.2794 - accuracy: 0.8833\n",
            "Epoch 11: val_accuracy improved from 0.87813 to 0.87865, saving model to best_model.h5\n",
            "60/60 [==============================] - 106s 2s/step - loss: 0.2794 - accuracy: 0.8833 - val_loss: 0.2893 - val_accuracy: 0.8786 - lr: 5.0000e-04\n",
            "Epoch 12/30\n",
            "60/60 [==============================] - ETA: 0s - loss: 0.2803 - accuracy: 0.8843\n",
            "Epoch 12: val_accuracy did not improve from 0.87865\n",
            "60/60 [==============================] - 103s 2s/step - loss: 0.2803 - accuracy: 0.8843 - val_loss: 0.2877 - val_accuracy: 0.8786 - lr: 5.0000e-04\n",
            "Epoch 13/30\n",
            "60/60 [==============================] - ETA: 0s - loss: 0.2769 - accuracy: 0.8863\n",
            "Epoch 13: val_accuracy did not improve from 0.87865\n",
            "60/60 [==============================] - 100s 2s/step - loss: 0.2769 - accuracy: 0.8863 - val_loss: 0.2884 - val_accuracy: 0.8786 - lr: 5.0000e-04\n",
            "Epoch 14/30\n",
            "60/60 [==============================] - ETA: 0s - loss: 0.2783 - accuracy: 0.8851\n",
            "Epoch 14: val_accuracy improved from 0.87865 to 0.87917, saving model to best_model.h5\n",
            "60/60 [==============================] - 102s 2s/step - loss: 0.2783 - accuracy: 0.8851 - val_loss: 0.2859 - val_accuracy: 0.8792 - lr: 5.0000e-04\n",
            "Epoch 15/30\n",
            "60/60 [==============================] - ETA: 0s - loss: 0.2771 - accuracy: 0.8874\n",
            "Epoch 15: val_accuracy improved from 0.87917 to 0.87969, saving model to best_model.h5\n",
            "60/60 [==============================] - 103s 2s/step - loss: 0.2771 - accuracy: 0.8874 - val_loss: 0.2849 - val_accuracy: 0.8797 - lr: 5.0000e-04\n",
            "Epoch 16/30\n",
            "60/60 [==============================] - ETA: 0s - loss: 0.2782 - accuracy: 0.8839\n",
            "Epoch 16: val_accuracy improved from 0.87969 to 0.88177, saving model to best_model.h5\n",
            "60/60 [==============================] - 102s 2s/step - loss: 0.2782 - accuracy: 0.8839 - val_loss: 0.2853 - val_accuracy: 0.8818 - lr: 5.0000e-04\n",
            "Epoch 17/30\n",
            "60/60 [==============================] - ETA: 0s - loss: 0.2810 - accuracy: 0.8817\n",
            "Epoch 17: val_accuracy did not improve from 0.88177\n",
            "60/60 [==============================] - 100s 2s/step - loss: 0.2810 - accuracy: 0.8817 - val_loss: 0.2864 - val_accuracy: 0.8792 - lr: 5.0000e-04\n",
            "Epoch 18/30\n",
            "60/60 [==============================] - ETA: 0s - loss: 0.2753 - accuracy: 0.8861\n",
            "Epoch 18: val_accuracy did not improve from 0.88177\n",
            "60/60 [==============================] - 101s 2s/step - loss: 0.2753 - accuracy: 0.8861 - val_loss: 0.2852 - val_accuracy: 0.8807 - lr: 5.0000e-04\n",
            "Epoch 19/30\n",
            "60/60 [==============================] - ETA: 0s - loss: 0.2704 - accuracy: 0.8858\n",
            "Epoch 19: val_accuracy improved from 0.88177 to 0.88385, saving model to best_model.h5\n",
            "60/60 [==============================] - 101s 2s/step - loss: 0.2704 - accuracy: 0.8858 - val_loss: 0.2831 - val_accuracy: 0.8839 - lr: 5.0000e-04\n",
            "Epoch 20/30\n",
            "60/60 [==============================] - ETA: 0s - loss: 0.2706 - accuracy: 0.8842\n",
            "Epoch 20: val_accuracy did not improve from 0.88385\n",
            "60/60 [==============================] - 102s 2s/step - loss: 0.2706 - accuracy: 0.8842 - val_loss: 0.2825 - val_accuracy: 0.8833 - lr: 2.5000e-04\n",
            "Epoch 21/30\n",
            "60/60 [==============================] - ETA: 0s - loss: 0.2769 - accuracy: 0.8817\n",
            "Epoch 21: val_accuracy did not improve from 0.88385\n",
            "60/60 [==============================] - 99s 2s/step - loss: 0.2769 - accuracy: 0.8817 - val_loss: 0.2824 - val_accuracy: 0.8839 - lr: 2.5000e-04\n",
            "Epoch 22/30\n",
            "60/60 [==============================] - ETA: 0s - loss: 0.2754 - accuracy: 0.8813\n",
            "Epoch 22: val_accuracy did not improve from 0.88385\n",
            "60/60 [==============================] - 104s 2s/step - loss: 0.2754 - accuracy: 0.8813 - val_loss: 0.2819 - val_accuracy: 0.8828 - lr: 2.5000e-04\n",
            "Epoch 23/30\n",
            "60/60 [==============================] - ETA: 0s - loss: 0.2713 - accuracy: 0.8810\n",
            "Epoch 23: val_accuracy improved from 0.88385 to 0.88437, saving model to best_model.h5\n",
            "60/60 [==============================] - 103s 2s/step - loss: 0.2713 - accuracy: 0.8810 - val_loss: 0.2816 - val_accuracy: 0.8844 - lr: 2.5000e-04\n",
            "Epoch 24/30\n",
            "60/60 [==============================] - ETA: 0s - loss: 0.2715 - accuracy: 0.8887\n",
            "Epoch 24: val_accuracy did not improve from 0.88437\n",
            "60/60 [==============================] - 101s 2s/step - loss: 0.2715 - accuracy: 0.8887 - val_loss: 0.2820 - val_accuracy: 0.8833 - lr: 2.5000e-04\n",
            "Epoch 25/30\n",
            "60/60 [==============================] - ETA: 0s - loss: 0.2687 - accuracy: 0.8876\n",
            "Epoch 25: val_accuracy improved from 0.88437 to 0.88490, saving model to best_model.h5\n",
            "60/60 [==============================] - 102s 2s/step - loss: 0.2687 - accuracy: 0.8876 - val_loss: 0.2812 - val_accuracy: 0.8849 - lr: 2.5000e-04\n",
            "Epoch 26/30\n",
            "60/60 [==============================] - ETA: 0s - loss: 0.2701 - accuracy: 0.8867\n",
            "Epoch 26: val_accuracy did not improve from 0.88490\n",
            "60/60 [==============================] - 106s 2s/step - loss: 0.2701 - accuracy: 0.8867 - val_loss: 0.2824 - val_accuracy: 0.8844 - lr: 2.5000e-04\n",
            "Epoch 27/30\n",
            "59/60 [============================>.] - ETA: 1s - loss: 0.2662 - accuracy: 0.8888\n",
            "Epoch 27: val_accuracy did not improve from 0.88490\n",
            "60/60 [==============================] - 104s 2s/step - loss: 0.2661 - accuracy: 0.8888 - val_loss: 0.2819 - val_accuracy: 0.8849 - lr: 2.5000e-04\n",
            "Epoch 28/30\n",
            "60/60 [==============================] - ETA: 0s - loss: 0.2706 - accuracy: 0.8896\n",
            "Epoch 28: val_accuracy did not improve from 0.88490\n",
            "60/60 [==============================] - 106s 2s/step - loss: 0.2706 - accuracy: 0.8896 - val_loss: 0.2821 - val_accuracy: 0.8833 - lr: 2.5000e-04\n",
            "Epoch 29/30\n",
            "60/60 [==============================] - ETA: 0s - loss: 0.2737 - accuracy: 0.8868\n",
            "Epoch 29: val_accuracy did not improve from 0.88490\n",
            "60/60 [==============================] - 107s 2s/step - loss: 0.2737 - accuracy: 0.8868 - val_loss: 0.2811 - val_accuracy: 0.8844 - lr: 2.5000e-04\n",
            "Epoch 30/30\n",
            "60/60 [==============================] - ETA: 0s - loss: 0.2715 - accuracy: 0.8876\n",
            "Epoch 30: val_accuracy did not improve from 0.88490\n",
            "60/60 [==============================] - 105s 2s/step - loss: 0.2715 - accuracy: 0.8876 - val_loss: 0.2806 - val_accuracy: 0.8823 - lr: 1.2500e-04\n"
          ]
        },
        {
          "metadata": {
            "tags": null
          },
          "name": "stderr",
          "output_type": "stream",
          "text": [
            "WARNING:absl:`lr` is deprecated in Keras optimizer, please use `learning_rate` or use the legacy optimizer, e.g.,tf.keras.optimizers.legacy.Adam.\n"
          ]
        },
        {
          "output_type": "stream",
          "name": "stdout",
          "text": [
            "Epoch 1/20\n",
            "60/60 [==============================] - ETA: 0s - loss: 0.2959 - accuracy: 0.8825\n",
            "Epoch 1: val_accuracy did not improve from 0.88490\n",
            "60/60 [==============================] - 121s 2s/step - loss: 0.2959 - accuracy: 0.8825 - val_loss: 13.2750 - val_accuracy: 0.6203 - lr: 0.0010\n",
            "Epoch 2/20\n",
            "60/60 [==============================] - ETA: 0s - loss: 0.2030 - accuracy: 0.9186\n",
            "Epoch 2: val_accuracy did not improve from 0.88490\n",
            "60/60 [==============================] - 105s 2s/step - loss: 0.2030 - accuracy: 0.9186 - val_loss: 5.2218 - val_accuracy: 0.7521 - lr: 0.0010\n",
            "Epoch 3/20\n",
            "60/60 [==============================] - ETA: 0s - loss: 0.2028 - accuracy: 0.9206\n",
            "Epoch 3: val_accuracy did not improve from 0.88490\n",
            "60/60 [==============================] - 103s 2s/step - loss: 0.2028 - accuracy: 0.9206 - val_loss: 2.5789 - val_accuracy: 0.7729 - lr: 0.0010\n",
            "Epoch 4/20\n",
            "60/60 [==============================] - ETA: 0s - loss: 0.1842 - accuracy: 0.9281\n",
            "Epoch 4: val_accuracy did not improve from 0.88490\n",
            "60/60 [==============================] - 104s 2s/step - loss: 0.1842 - accuracy: 0.9281 - val_loss: 2.0047 - val_accuracy: 0.7729 - lr: 0.0010\n",
            "Epoch 5/20\n",
            "60/60 [==============================] - ETA: 0s - loss: 0.1633 - accuracy: 0.9333\n",
            "Epoch 5: val_accuracy did not improve from 0.88490\n",
            "60/60 [==============================] - 103s 2s/step - loss: 0.1633 - accuracy: 0.9333 - val_loss: 6.1724 - val_accuracy: 0.6573 - lr: 0.0010\n",
            "Epoch 6/20\n",
            "60/60 [==============================] - ETA: 0s - loss: 0.1481 - accuracy: 0.9407\n",
            "Epoch 6: val_accuracy did not improve from 0.88490\n",
            "60/60 [==============================] - 104s 2s/step - loss: 0.1481 - accuracy: 0.9407 - val_loss: 2.2434 - val_accuracy: 0.7760 - lr: 0.0010\n",
            "Epoch 7/20\n",
            "60/60 [==============================] - ETA: 0s - loss: 0.1288 - accuracy: 0.9457\n",
            "Epoch 7: val_accuracy did not improve from 0.88490\n",
            "60/60 [==============================] - 107s 2s/step - loss: 0.1288 - accuracy: 0.9457 - val_loss: 2.6730 - val_accuracy: 0.7729 - lr: 0.0010\n",
            "Epoch 8/20\n",
            "60/60 [==============================] - ETA: 0s - loss: 0.1350 - accuracy: 0.9469\n",
            "Epoch 8: val_accuracy did not improve from 0.88490\n",
            "60/60 [==============================] - 104s 2s/step - loss: 0.1350 - accuracy: 0.9469 - val_loss: 2.0368 - val_accuracy: 0.7630 - lr: 0.0010\n",
            "Epoch 9/20\n",
            "60/60 [==============================] - ETA: 0s - loss: 0.1690 - accuracy: 0.9307\n",
            "Epoch 9: val_accuracy did not improve from 0.88490\n",
            "60/60 [==============================] - 104s 2s/step - loss: 0.1690 - accuracy: 0.9307 - val_loss: 1.7518 - val_accuracy: 0.7349 - lr: 0.0010\n",
            "Epoch 10/20\n",
            "60/60 [==============================] - ETA: 0s - loss: 0.1237 - accuracy: 0.9505\n",
            "Epoch 10: val_accuracy did not improve from 0.88490\n",
            "60/60 [==============================] - 102s 2s/step - loss: 0.1237 - accuracy: 0.9505 - val_loss: 0.8717 - val_accuracy: 0.8568 - lr: 5.0000e-04\n",
            "Epoch 11/20\n",
            "60/60 [==============================] - ETA: 0s - loss: 0.1206 - accuracy: 0.9551\n",
            "Epoch 11: val_accuracy did not improve from 0.88490\n",
            "60/60 [==============================] - 104s 2s/step - loss: 0.1206 - accuracy: 0.9551 - val_loss: 0.8387 - val_accuracy: 0.8745 - lr: 5.0000e-04\n",
            "Epoch 12/20\n",
            "59/60 [============================>.] - ETA: 1s - loss: 0.0931 - accuracy: 0.9641\n",
            "Epoch 12: val_accuracy improved from 0.88490 to 0.88698, saving model to best_model.h5\n",
            "60/60 [==============================] - 104s 2s/step - loss: 0.0930 - accuracy: 0.9641 - val_loss: 0.7352 - val_accuracy: 0.8870 - lr: 5.0000e-04\n",
            "Epoch 13/20\n",
            "60/60 [==============================] - ETA: 0s - loss: 0.0875 - accuracy: 0.9664\n",
            "Epoch 13: val_accuracy improved from 0.88698 to 0.89583, saving model to best_model.h5\n",
            "60/60 [==============================] - 106s 2s/step - loss: 0.0875 - accuracy: 0.9664 - val_loss: 0.4707 - val_accuracy: 0.8958 - lr: 5.0000e-04\n",
            "Epoch 14/20\n",
            "60/60 [==============================] - ETA: 0s - loss: 0.0834 - accuracy: 0.9655\n",
            "Epoch 14: val_accuracy did not improve from 0.89583\n",
            "60/60 [==============================] - 102s 2s/step - loss: 0.0834 - accuracy: 0.9655 - val_loss: 0.5424 - val_accuracy: 0.8771 - lr: 5.0000e-04\n",
            "Epoch 15/20\n",
            "60/60 [==============================] - ETA: 0s - loss: 0.0706 - accuracy: 0.9713\n",
            "Epoch 15: val_accuracy did not improve from 0.89583\n",
            "60/60 [==============================] - 114s 2s/step - loss: 0.0706 - accuracy: 0.9713 - val_loss: 0.7541 - val_accuracy: 0.7953 - lr: 5.0000e-04\n",
            "Epoch 16/20\n",
            "60/60 [==============================] - ETA: 0s - loss: 0.0714 - accuracy: 0.9725\n",
            "Epoch 16: val_accuracy did not improve from 0.89583\n",
            "60/60 [==============================] - 105s 2s/step - loss: 0.0714 - accuracy: 0.9725 - val_loss: 0.6464 - val_accuracy: 0.8453 - lr: 5.0000e-04\n",
            "Epoch 17/20\n",
            "60/60 [==============================] - ETA: 0s - loss: 0.0699 - accuracy: 0.9722\n",
            "Epoch 17: val_accuracy did not improve from 0.89583\n",
            "60/60 [==============================] - 102s 2s/step - loss: 0.0699 - accuracy: 0.9722 - val_loss: 0.6297 - val_accuracy: 0.8167 - lr: 5.0000e-04\n",
            "Epoch 18/20\n",
            "60/60 [==============================] - ETA: 0s - loss: 0.1366 - accuracy: 0.9530\n",
            "Epoch 18: val_accuracy improved from 0.89583 to 0.90625, saving model to best_model.h5\n",
            "60/60 [==============================] - 103s 2s/step - loss: 0.1366 - accuracy: 0.9530 - val_loss: 0.3833 - val_accuracy: 0.9062 - lr: 5.0000e-04\n",
            "Epoch 19/20\n",
            "60/60 [==============================] - ETA: 0s - loss: 0.1287 - accuracy: 0.9510\n",
            "Epoch 19: val_accuracy did not improve from 0.90625\n",
            "60/60 [==============================] - 103s 2s/step - loss: 0.1287 - accuracy: 0.9510 - val_loss: 1.0058 - val_accuracy: 0.8031 - lr: 5.0000e-04\n",
            "Epoch 20/20\n",
            "60/60 [==============================] - ETA: 0s - loss: 0.0994 - accuracy: 0.9618\n",
            "Epoch 20: val_accuracy did not improve from 0.90625\n",
            "60/60 [==============================] - 101s 2s/step - loss: 0.0994 - accuracy: 0.9618 - val_loss: 0.6090 - val_accuracy: 0.8141 - lr: 2.5000e-04\n",
            "Best validation accuracy: 0.90625\n",
            "Training with LR: 0.01, Optimizer: Adam, Fine-tuning at layer: 110\n",
            "Epoch 1/30\n",
            "60/60 [==============================] - ETA: 0s - loss: 0.4659 - accuracy: 0.7785\n",
            "Epoch 1: val_accuracy improved from -inf to 0.84948, saving model to best_model.h5\n",
            "60/60 [==============================] - 105s 2s/step - loss: 0.4659 - accuracy: 0.7785 - val_loss: 0.3480 - val_accuracy: 0.8495 - lr: 0.0010\n",
            "Epoch 2/30\n",
            "60/60 [==============================] - ETA: 0s - loss: 0.3508 - accuracy: 0.8454\n",
            "Epoch 2: val_accuracy improved from 0.84948 to 0.85990, saving model to best_model.h5\n",
            "60/60 [==============================] - 101s 2s/step - loss: 0.3508 - accuracy: 0.8454 - val_loss: 0.3297 - val_accuracy: 0.8599 - lr: 0.0010\n",
            "Epoch 3/30\n",
            "60/60 [==============================] - ETA: 0s - loss: 0.3227 - accuracy: 0.8641\n",
            "Epoch 3: val_accuracy improved from 0.85990 to 0.86406, saving model to best_model.h5\n",
            "60/60 [==============================] - 100s 2s/step - loss: 0.3227 - accuracy: 0.8641 - val_loss: 0.3115 - val_accuracy: 0.8641 - lr: 0.0010\n",
            "Epoch 4/30\n",
            "60/60 [==============================] - ETA: 0s - loss: 0.3147 - accuracy: 0.8646\n",
            "Epoch 4: val_accuracy improved from 0.86406 to 0.86510, saving model to best_model.h5\n",
            "60/60 [==============================] - 101s 2s/step - loss: 0.3147 - accuracy: 0.8646 - val_loss: 0.3170 - val_accuracy: 0.8651 - lr: 0.0010\n",
            "Epoch 5/30\n",
            "60/60 [==============================] - ETA: 0s - loss: 0.3000 - accuracy: 0.8747\n",
            "Epoch 5: val_accuracy improved from 0.86510 to 0.87344, saving model to best_model.h5\n",
            "60/60 [==============================] - 101s 2s/step - loss: 0.3000 - accuracy: 0.8747 - val_loss: 0.3017 - val_accuracy: 0.8734 - lr: 0.0010\n",
            "Epoch 6/30\n",
            "60/60 [==============================] - ETA: 0s - loss: 0.3008 - accuracy: 0.8722\n",
            "Epoch 6: val_accuracy improved from 0.87344 to 0.87865, saving model to best_model.h5\n",
            "60/60 [==============================] - 101s 2s/step - loss: 0.3008 - accuracy: 0.8722 - val_loss: 0.2972 - val_accuracy: 0.8786 - lr: 0.0010\n",
            "Epoch 7/30\n",
            "60/60 [==============================] - ETA: 0s - loss: 0.2953 - accuracy: 0.8782\n",
            "Epoch 7: val_accuracy did not improve from 0.87865\n",
            "60/60 [==============================] - 100s 2s/step - loss: 0.2953 - accuracy: 0.8782 - val_loss: 0.2955 - val_accuracy: 0.8771 - lr: 0.0010\n",
            "Epoch 8/30\n",
            "60/60 [==============================] - ETA: 0s - loss: 0.2858 - accuracy: 0.8760\n",
            "Epoch 8: val_accuracy improved from 0.87865 to 0.88177, saving model to best_model.h5\n",
            "60/60 [==============================] - 109s 2s/step - loss: 0.2858 - accuracy: 0.8760 - val_loss: 0.2928 - val_accuracy: 0.8818 - lr: 0.0010\n",
            "Epoch 9/30\n",
            "60/60 [==============================] - ETA: 0s - loss: 0.2846 - accuracy: 0.8813\n",
            "Epoch 9: val_accuracy improved from 0.88177 to 0.88333, saving model to best_model.h5\n",
            "60/60 [==============================] - 104s 2s/step - loss: 0.2846 - accuracy: 0.8813 - val_loss: 0.2900 - val_accuracy: 0.8833 - lr: 0.0010\n",
            "Epoch 10/30\n",
            "60/60 [==============================] - ETA: 0s - loss: 0.2741 - accuracy: 0.8838\n",
            "Epoch 10: val_accuracy improved from 0.88333 to 0.88490, saving model to best_model.h5\n",
            "60/60 [==============================] - 101s 2s/step - loss: 0.2741 - accuracy: 0.8838 - val_loss: 0.2883 - val_accuracy: 0.8849 - lr: 5.0000e-04\n",
            "Epoch 11/30\n",
            "60/60 [==============================] - ETA: 0s - loss: 0.2740 - accuracy: 0.8826\n",
            "Epoch 11: val_accuracy did not improve from 0.88490\n",
            "60/60 [==============================] - 101s 2s/step - loss: 0.2740 - accuracy: 0.8826 - val_loss: 0.2870 - val_accuracy: 0.8797 - lr: 5.0000e-04\n",
            "Epoch 12/30\n",
            "60/60 [==============================] - ETA: 0s - loss: 0.2777 - accuracy: 0.8871\n",
            "Epoch 12: val_accuracy did not improve from 0.88490\n",
            "60/60 [==============================] - 101s 2s/step - loss: 0.2777 - accuracy: 0.8871 - val_loss: 0.3000 - val_accuracy: 0.8724 - lr: 5.0000e-04\n",
            "Epoch 13/30\n",
            "60/60 [==============================] - ETA: 0s - loss: 0.2784 - accuracy: 0.8823\n",
            "Epoch 13: val_accuracy did not improve from 0.88490\n",
            "60/60 [==============================] - 99s 2s/step - loss: 0.2784 - accuracy: 0.8823 - val_loss: 0.2911 - val_accuracy: 0.8776 - lr: 5.0000e-04\n",
            "Epoch 14/30\n",
            "60/60 [==============================] - ETA: 0s - loss: 0.2808 - accuracy: 0.8780\n",
            "Epoch 14: val_accuracy did not improve from 0.88490\n",
            "60/60 [==============================] - 102s 2s/step - loss: 0.2808 - accuracy: 0.8780 - val_loss: 0.2854 - val_accuracy: 0.8797 - lr: 5.0000e-04\n",
            "Epoch 15/30\n",
            "60/60 [==============================] - ETA: 0s - loss: 0.2810 - accuracy: 0.8835\n",
            "Epoch 15: val_accuracy did not improve from 0.88490\n",
            "60/60 [==============================] - 100s 2s/step - loss: 0.2810 - accuracy: 0.8835 - val_loss: 0.2877 - val_accuracy: 0.8797 - lr: 5.0000e-04\n",
            "Epoch 16/30\n",
            "60/60 [==============================] - ETA: 0s - loss: 0.2721 - accuracy: 0.8882\n",
            "Epoch 16: val_accuracy did not improve from 0.88490\n",
            "60/60 [==============================] - 102s 2s/step - loss: 0.2721 - accuracy: 0.8882 - val_loss: 0.2851 - val_accuracy: 0.8802 - lr: 5.0000e-04\n",
            "Epoch 17/30\n",
            "60/60 [==============================] - ETA: 0s - loss: 0.2694 - accuracy: 0.8868\n",
            "Epoch 17: val_accuracy did not improve from 0.88490\n",
            "60/60 [==============================] - 102s 2s/step - loss: 0.2694 - accuracy: 0.8868 - val_loss: 0.2832 - val_accuracy: 0.8833 - lr: 5.0000e-04\n",
            "Epoch 18/30\n",
            "60/60 [==============================] - ETA: 0s - loss: 0.2722 - accuracy: 0.8863\n",
            "Epoch 18: val_accuracy did not improve from 0.88490\n",
            "60/60 [==============================] - 101s 2s/step - loss: 0.2722 - accuracy: 0.8863 - val_loss: 0.2832 - val_accuracy: 0.8844 - lr: 5.0000e-04\n",
            "Epoch 19/30\n",
            "60/60 [==============================] - ETA: 0s - loss: 0.2747 - accuracy: 0.8838\n",
            "Epoch 19: val_accuracy did not improve from 0.88490\n",
            "60/60 [==============================] - 102s 2s/step - loss: 0.2747 - accuracy: 0.8838 - val_loss: 0.2826 - val_accuracy: 0.8813 - lr: 5.0000e-04\n",
            "Epoch 20/30\n",
            "60/60 [==============================] - ETA: 0s - loss: 0.2671 - accuracy: 0.8902\n",
            "Epoch 20: val_accuracy did not improve from 0.88490\n",
            "60/60 [==============================] - 101s 2s/step - loss: 0.2671 - accuracy: 0.8902 - val_loss: 0.2819 - val_accuracy: 0.8823 - lr: 2.5000e-04\n",
            "Epoch 21/30\n",
            "60/60 [==============================] - ETA: 0s - loss: 0.2706 - accuracy: 0.8884\n",
            "Epoch 21: val_accuracy did not improve from 0.88490\n",
            "60/60 [==============================] - 102s 2s/step - loss: 0.2706 - accuracy: 0.8884 - val_loss: 0.2811 - val_accuracy: 0.8839 - lr: 2.5000e-04\n",
            "Epoch 22/30\n",
            "60/60 [==============================] - ETA: 0s - loss: 0.2646 - accuracy: 0.8915\n",
            "Epoch 22: val_accuracy did not improve from 0.88490\n",
            "60/60 [==============================] - 100s 2s/step - loss: 0.2646 - accuracy: 0.8915 - val_loss: 0.2815 - val_accuracy: 0.8823 - lr: 2.5000e-04\n",
            "Epoch 23/30\n",
            "60/60 [==============================] - ETA: 0s - loss: 0.2787 - accuracy: 0.8849\n",
            "Epoch 23: val_accuracy did not improve from 0.88490\n",
            "60/60 [==============================] - 106s 2s/step - loss: 0.2787 - accuracy: 0.8849 - val_loss: 0.2818 - val_accuracy: 0.8839 - lr: 2.5000e-04\n",
            "Epoch 24/30\n",
            "60/60 [==============================] - ETA: 0s - loss: 0.2688 - accuracy: 0.8867\n",
            "Epoch 24: val_accuracy improved from 0.88490 to 0.88594, saving model to best_model.h5\n",
            "60/60 [==============================] - 100s 2s/step - loss: 0.2688 - accuracy: 0.8867 - val_loss: 0.2824 - val_accuracy: 0.8859 - lr: 2.5000e-04\n",
            "Epoch 25/30\n",
            "60/60 [==============================] - ETA: 0s - loss: 0.2681 - accuracy: 0.8900\n",
            "Epoch 25: val_accuracy did not improve from 0.88594\n",
            "60/60 [==============================] - 102s 2s/step - loss: 0.2681 - accuracy: 0.8900 - val_loss: 0.2812 - val_accuracy: 0.8833 - lr: 2.5000e-04\n",
            "Epoch 26/30\n",
            "60/60 [==============================] - ETA: 0s - loss: 0.2724 - accuracy: 0.8858Restoring model weights from the end of the best epoch: 21.\n",
            "\n",
            "Epoch 26: val_accuracy did not improve from 0.88594\n",
            "60/60 [==============================] - 102s 2s/step - loss: 0.2724 - accuracy: 0.8858 - val_loss: 0.2832 - val_accuracy: 0.8797 - lr: 2.5000e-04\n",
            "Epoch 26: early stopping\n"
          ]
        },
        {
          "output_type": "stream",
          "name": "stderr",
          "text": [
            "WARNING:absl:`lr` is deprecated in Keras optimizer, please use `learning_rate` or use the legacy optimizer, e.g.,tf.keras.optimizers.legacy.Adam.\n"
          ]
        },
        {
          "output_type": "stream",
          "name": "stdout",
          "text": [
            "Epoch 1/20\n",
            "60/60 [==============================] - ETA: 0s - loss: 0.3154 - accuracy: 0.8650\n",
            "Epoch 1: val_accuracy did not improve from 0.88594\n",
            "60/60 [==============================] - 111s 2s/step - loss: 0.3154 - accuracy: 0.8650 - val_loss: 10.0450 - val_accuracy: 0.5255 - lr: 0.0010\n",
            "Epoch 2/20\n",
            "60/60 [==============================] - ETA: 0s - loss: 0.2079 - accuracy: 0.9190\n",
            "Epoch 2: val_accuracy did not improve from 0.88594\n",
            "60/60 [==============================] - 101s 2s/step - loss: 0.2079 - accuracy: 0.9190 - val_loss: 9.3306 - val_accuracy: 0.5219 - lr: 0.0010\n",
            "Epoch 3/20\n",
            "60/60 [==============================] - ETA: 0s - loss: 0.1777 - accuracy: 0.9288\n",
            "Epoch 3: val_accuracy did not improve from 0.88594\n",
            "60/60 [==============================] - 106s 2s/step - loss: 0.1777 - accuracy: 0.9288 - val_loss: 14.1704 - val_accuracy: 0.5203 - lr: 0.0010\n",
            "Epoch 4/20\n",
            "60/60 [==============================] - ETA: 0s - loss: 0.1830 - accuracy: 0.9276\n",
            "Epoch 4: val_accuracy did not improve from 0.88594\n",
            "60/60 [==============================] - 103s 2s/step - loss: 0.1830 - accuracy: 0.9276 - val_loss: 9.8878 - val_accuracy: 0.5208 - lr: 0.0010\n",
            "Epoch 5/20\n",
            "22/60 [==========>...................] - ETA: 1:05 - loss: 0.1870 - accuracy: 0.9264"
          ]
        }
      ]
    },
    {
      "cell_type": "markdown",
      "source": [
        "#Base Model"
      ],
      "metadata": {
        "id": "NAAewGdLJTYn"
      }
    },
    {
      "cell_type": "code",
      "source": [
        "from tensorflow.keras.applications import MobileNetV2\n",
        "from tensorflow.keras.models import Sequential\n",
        "from tensorflow.keras.layers import GlobalAveragePooling2D, Dropout, Dense\n",
        "from tensorflow.keras.optimizers import Adam, SGD, RMSprop\n",
        "\n",
        "\n",
        "# Load MobileNetV2 as the base model, excluding the top (classification) layer\n",
        "base_model = MobileNetV2(weights='imagenet', include_top=False, input_shape=(224, 224, 3))\n",
        "base_model.trainable = False  # Freeze the base model\n",
        "\n",
        "# Create the model\n",
        "model = Sequential([\n",
        "    base_model,\n",
        "    GlobalAveragePooling2D(),\n",
        "    Dropout(0.2),\n",
        "    Dense(1, activation='sigmoid')  # Binary classification layer\n",
        "])\n",
        "\n",
        "model.compile(optimizer=RMSprop(learning_rate=1e-2),  # Start with a learning rate of 0.001\n",
        "              loss='binary_crossentropy',\n",
        "              metrics=['accuracy'])\n",
        "\n",
        "model.summary()  # Optional, to see the model architecture\n"
      ],
      "metadata": {
        "colab": {
          "base_uri": "https://localhost:8080/"
        },
        "id": "8UOsnVYvOcoS",
        "outputId": "9bdbd5c3-7119-46ba-8468-7700b6f6478a"
      },
      "execution_count": null,
      "outputs": [
        {
          "output_type": "stream",
          "name": "stdout",
          "text": [
            "Downloading data from https://storage.googleapis.com/tensorflow/keras-applications/mobilenet_v2/mobilenet_v2_weights_tf_dim_ordering_tf_kernels_1.0_224_no_top.h5\n",
            "9406464/9406464 [==============================] - 0s 0us/step\n",
            "Model: \"sequential\"\n",
            "_________________________________________________________________\n",
            " Layer (type)                Output Shape              Param #   \n",
            "=================================================================\n",
            " mobilenetv2_1.00_224 (Func  (None, 7, 7, 1280)        2257984   \n",
            " tional)                                                         \n",
            "                                                                 \n",
            " global_average_pooling2d (  (None, 1280)              0         \n",
            " GlobalAveragePooling2D)                                         \n",
            "                                                                 \n",
            " dropout (Dropout)           (None, 1280)              0         \n",
            "                                                                 \n",
            " dense (Dense)               (None, 1)                 1281      \n",
            "                                                                 \n",
            "=================================================================\n",
            "Total params: 2259265 (8.62 MB)\n",
            "Trainable params: 1281 (5.00 KB)\n",
            "Non-trainable params: 2257984 (8.61 MB)\n",
            "_________________________________________________________________\n"
          ]
        }
      ]
    },
    {
      "cell_type": "markdown",
      "source": [
        "#Train"
      ],
      "metadata": {
        "id": "4ZCURdJiJGdn"
      }
    },
    {
      "cell_type": "code",
      "source": [
        "import math\n",
        "from tensorflow.keras.callbacks import EarlyStopping, LearningRateScheduler, ModelCheckpoint\n",
        "\n",
        "# Early Stopping\n",
        "early_stopping = EarlyStopping(monitor='val_loss', patience=10, verbose=1, mode='min', restore_best_weights=True)\n",
        "\n",
        "# Model Checkpoint\n",
        "model_checkpoint = ModelCheckpoint('best_model.h5', monitor='val_accuracy', save_best_only=True, mode='max', verbose=1)\n",
        "\n",
        "# Function for step decay schedule\n",
        "def step_decay(epoch):\n",
        "    initial_lr = 1e-2  # Starting learning rate\n",
        "    drop = 0.5  # Reduce learning rate by half\n",
        "    epochs_drop = 10.0  # Reduce every 10 epochs\n",
        "    lr = initial_lr * math.pow(drop, math.floor((1+epoch)/epochs_drop))\n",
        "    return lr\n",
        "\n",
        "# Define the Early Stopping callback\n",
        "early_stopping = EarlyStopping(\n",
        "    monitor='val_loss',  # Monitor validation loss\n",
        "    patience=10,  # Number of epochs with no improvement after which training will be stopped\n",
        "    restore_best_weights=True)  # Restore model weights from the epoch with the best value of the monitored metric\n",
        "\n",
        "# Define the Learning Rate Scheduler callback\n",
        "lr_scheduler = LearningRateScheduler(step_decay)\n",
        "\n",
        "# Add both callbacks to the callbacks list in model.fit()\n",
        "history = model.fit(\n",
        "    train_generator,\n",
        "    steps_per_epoch=train_generator.samples // train_generator.batch_size,\n",
        "    epochs=50,  # Increased epochs for fine-tuning and allowing the learning rate scheduler to adjust the learning rate\n",
        "    validation_data=validation_generator,\n",
        "    validation_steps=validation_generator.samples // validation_generator.batch_size,\n",
        "    callbacks=[lr_scheduler, early_stopping, model_checkpoint])  # Including both callbacks here\n",
        "\n"
      ],
      "metadata": {
        "colab": {
          "base_uri": "https://localhost:8080/"
        },
        "id": "N89fuD53BAeC",
        "outputId": "d69fb3fd-d2b1-4a15-a200-eea4e9402a12"
      },
      "execution_count": null,
      "outputs": [
        {
          "output_type": "stream",
          "name": "stdout",
          "text": [
            "Epoch 1/50\n",
            "120/120 [==============================] - ETA: 0s - loss: 0.6325 - accuracy: 0.7841\n",
            "Epoch 1: val_accuracy improved from -inf to 0.85677, saving model to best_model.h5\n"
          ]
        },
        {
          "output_type": "stream",
          "name": "stderr",
          "text": [
            "/usr/local/lib/python3.10/dist-packages/keras/src/engine/training.py:3103: UserWarning: You are saving your model as an HDF5 file via `model.save()`. This file format is considered legacy. We recommend using instead the native Keras format, e.g. `model.save('my_model.keras')`.\n",
            "  saving_api.save_model(\n"
          ]
        },
        {
          "output_type": "stream",
          "name": "stdout",
          "text": [
            "\b\b\b\b\b\b\b\b\b\b\b\b\b\b\b\b\b\b\b\b\b\b\b\b\b\b\b\b\b\b\b\b\b\b\b\b\b\b\b\b\b\b\b\b\b\b\b\b\b\b\b\b\b\b\b\b\b\b\b\b\b\b\b\b\b\b\b\b\b\b\b\b\b\b\b\b\b\b\b\b\b\b\b\b\r120/120 [==============================] - 133s 924ms/step - loss: 0.6325 - accuracy: 0.7841 - val_loss: 0.3856 - val_accuracy: 0.8568 - lr: 0.0100\n",
            "Epoch 2/50\n",
            "120/120 [==============================] - ETA: 0s - loss: 0.4718 - accuracy: 0.8360\n",
            "Epoch 2: val_accuracy did not improve from 0.85677\n",
            "120/120 [==============================] - 107s 891ms/step - loss: 0.4718 - accuracy: 0.8360 - val_loss: 0.8220 - val_accuracy: 0.7146 - lr: 0.0100\n",
            "Epoch 3/50\n",
            "120/120 [==============================] - ETA: 0s - loss: 0.4715 - accuracy: 0.8392\n",
            "Epoch 3: val_accuracy did not improve from 0.85677\n",
            "120/120 [==============================] - 105s 872ms/step - loss: 0.4715 - accuracy: 0.8392 - val_loss: 1.0895 - val_accuracy: 0.7437 - lr: 0.0100\n",
            "Epoch 4/50\n",
            "120/120 [==============================] - ETA: 0s - loss: 0.4920 - accuracy: 0.8400\n",
            "Epoch 4: val_accuracy did not improve from 0.85677\n",
            "120/120 [==============================] - 105s 876ms/step - loss: 0.4920 - accuracy: 0.8400 - val_loss: 0.4540 - val_accuracy: 0.8490 - lr: 0.0100\n",
            "Epoch 5/50\n",
            "120/120 [==============================] - ETA: 0s - loss: 0.4673 - accuracy: 0.8487\n",
            "Epoch 5: val_accuracy improved from 0.85677 to 0.86979, saving model to best_model.h5\n",
            "120/120 [==============================] - 105s 874ms/step - loss: 0.4673 - accuracy: 0.8487 - val_loss: 0.3846 - val_accuracy: 0.8698 - lr: 0.0100\n",
            "Epoch 6/50\n",
            "120/120 [==============================] - ETA: 0s - loss: 0.4590 - accuracy: 0.8450\n",
            "Epoch 6: val_accuracy did not improve from 0.86979\n",
            "120/120 [==============================] - 104s 867ms/step - loss: 0.4590 - accuracy: 0.8450 - val_loss: 0.4282 - val_accuracy: 0.8411 - lr: 0.0100\n",
            "Epoch 7/50\n",
            "120/120 [==============================] - ETA: 0s - loss: 0.4776 - accuracy: 0.8433\n",
            "Epoch 7: val_accuracy improved from 0.86979 to 0.87813, saving model to best_model.h5\n",
            "120/120 [==============================] - 106s 881ms/step - loss: 0.4776 - accuracy: 0.8433 - val_loss: 0.3449 - val_accuracy: 0.8781 - lr: 0.0100\n",
            "Epoch 8/50\n",
            "120/120 [==============================] - ETA: 0s - loss: 0.4714 - accuracy: 0.8444\n",
            "Epoch 8: val_accuracy did not improve from 0.87813\n",
            "120/120 [==============================] - 103s 858ms/step - loss: 0.4714 - accuracy: 0.8444 - val_loss: 0.3809 - val_accuracy: 0.8630 - lr: 0.0100\n",
            "Epoch 9/50\n",
            "120/120 [==============================] - ETA: 0s - loss: 0.4455 - accuracy: 0.8542\n",
            "Epoch 9: val_accuracy did not improve from 0.87813\n",
            "120/120 [==============================] - 104s 867ms/step - loss: 0.4455 - accuracy: 0.8542 - val_loss: 0.3578 - val_accuracy: 0.8771 - lr: 0.0100\n",
            "Epoch 10/50\n",
            "120/120 [==============================] - ETA: 0s - loss: 0.3415 - accuracy: 0.8723\n",
            "Epoch 10: val_accuracy improved from 0.87813 to 0.88490, saving model to best_model.h5\n",
            "120/120 [==============================] - 104s 871ms/step - loss: 0.3415 - accuracy: 0.8723 - val_loss: 0.2919 - val_accuracy: 0.8849 - lr: 0.0050\n",
            "Epoch 11/50\n",
            "120/120 [==============================] - ETA: 0s - loss: 0.3206 - accuracy: 0.8770\n",
            "Epoch 11: val_accuracy did not improve from 0.88490\n",
            "120/120 [==============================] - 103s 856ms/step - loss: 0.3206 - accuracy: 0.8770 - val_loss: 0.3872 - val_accuracy: 0.8583 - lr: 0.0050\n",
            "Epoch 12/50\n",
            "120/120 [==============================] - ETA: 0s - loss: 0.3254 - accuracy: 0.8735\n",
            "Epoch 12: val_accuracy did not improve from 0.88490\n",
            "120/120 [==============================] - 105s 877ms/step - loss: 0.3254 - accuracy: 0.8735 - val_loss: 0.2899 - val_accuracy: 0.8833 - lr: 0.0050\n",
            "Epoch 13/50\n",
            "120/120 [==============================] - ETA: 0s - loss: 0.3410 - accuracy: 0.8703\n",
            "Epoch 13: val_accuracy improved from 0.88490 to 0.88594, saving model to best_model.h5\n",
            "120/120 [==============================] - 105s 878ms/step - loss: 0.3410 - accuracy: 0.8703 - val_loss: 0.2858 - val_accuracy: 0.8859 - lr: 0.0050\n",
            "Epoch 14/50\n",
            "120/120 [==============================] - ETA: 0s - loss: 0.3240 - accuracy: 0.8722\n",
            "Epoch 14: val_accuracy did not improve from 0.88594\n",
            "120/120 [==============================] - 103s 859ms/step - loss: 0.3240 - accuracy: 0.8722 - val_loss: 0.2940 - val_accuracy: 0.8844 - lr: 0.0050\n",
            "Epoch 15/50\n",
            "120/120 [==============================] - ETA: 0s - loss: 0.3154 - accuracy: 0.8744\n",
            "Epoch 15: val_accuracy improved from 0.88594 to 0.89010, saving model to best_model.h5\n",
            "120/120 [==============================] - 104s 871ms/step - loss: 0.3154 - accuracy: 0.8744 - val_loss: 0.2923 - val_accuracy: 0.8901 - lr: 0.0050\n",
            "Epoch 16/50\n",
            "120/120 [==============================] - ETA: 0s - loss: 0.3176 - accuracy: 0.8761\n",
            "Epoch 16: val_accuracy did not improve from 0.89010\n",
            "120/120 [==============================] - 102s 853ms/step - loss: 0.3176 - accuracy: 0.8761 - val_loss: 0.3018 - val_accuracy: 0.8776 - lr: 0.0050\n",
            "Epoch 17/50\n",
            "120/120 [==============================] - ETA: 0s - loss: 0.3317 - accuracy: 0.8706\n",
            "Epoch 17: val_accuracy did not improve from 0.89010\n",
            "120/120 [==============================] - 103s 862ms/step - loss: 0.3317 - accuracy: 0.8706 - val_loss: 0.3178 - val_accuracy: 0.8766 - lr: 0.0050\n",
            "Epoch 18/50\n",
            "120/120 [==============================] - ETA: 0s - loss: 0.3238 - accuracy: 0.8749\n",
            "Epoch 18: val_accuracy did not improve from 0.89010\n",
            "120/120 [==============================] - 104s 870ms/step - loss: 0.3238 - accuracy: 0.8749 - val_loss: 0.2878 - val_accuracy: 0.8839 - lr: 0.0050\n",
            "Epoch 19/50\n",
            "120/120 [==============================] - ETA: 0s - loss: 0.3127 - accuracy: 0.8782\n",
            "Epoch 19: val_accuracy did not improve from 0.89010\n",
            "120/120 [==============================] - 103s 858ms/step - loss: 0.3127 - accuracy: 0.8782 - val_loss: 0.2952 - val_accuracy: 0.8854 - lr: 0.0050\n",
            "Epoch 20/50\n",
            "120/120 [==============================] - ETA: 0s - loss: 0.2981 - accuracy: 0.8787\n",
            "Epoch 20: val_accuracy did not improve from 0.89010\n",
            "120/120 [==============================] - 110s 915ms/step - loss: 0.2981 - accuracy: 0.8787 - val_loss: 0.2781 - val_accuracy: 0.8891 - lr: 0.0025\n",
            "Epoch 21/50\n",
            "120/120 [==============================] - ETA: 0s - loss: 0.2770 - accuracy: 0.8895\n",
            "Epoch 21: val_accuracy did not improve from 0.89010\n",
            "120/120 [==============================] - 105s 873ms/step - loss: 0.2770 - accuracy: 0.8895 - val_loss: 0.2776 - val_accuracy: 0.8859 - lr: 0.0025\n",
            "Epoch 22/50\n",
            "120/120 [==============================] - ETA: 0s - loss: 0.2760 - accuracy: 0.8849\n",
            "Epoch 22: val_accuracy did not improve from 0.89010\n",
            "120/120 [==============================] - 103s 858ms/step - loss: 0.2760 - accuracy: 0.8849 - val_loss: 0.2974 - val_accuracy: 0.8833 - lr: 0.0025\n",
            "Epoch 23/50\n",
            "120/120 [==============================] - ETA: 0s - loss: 0.2866 - accuracy: 0.8870\n",
            "Epoch 23: val_accuracy did not improve from 0.89010\n",
            "120/120 [==============================] - 104s 868ms/step - loss: 0.2866 - accuracy: 0.8870 - val_loss: 0.2806 - val_accuracy: 0.8854 - lr: 0.0025\n",
            "Epoch 24/50\n",
            "120/120 [==============================] - ETA: 0s - loss: 0.2767 - accuracy: 0.8875\n",
            "Epoch 24: val_accuracy did not improve from 0.89010\n",
            "120/120 [==============================] - 108s 900ms/step - loss: 0.2767 - accuracy: 0.8875 - val_loss: 0.2796 - val_accuracy: 0.8880 - lr: 0.0025\n",
            "Epoch 25/50\n",
            "120/120 [==============================] - ETA: 0s - loss: 0.2782 - accuracy: 0.8854\n",
            "Epoch 25: val_accuracy did not improve from 0.89010\n",
            "120/120 [==============================] - 105s 876ms/step - loss: 0.2782 - accuracy: 0.8854 - val_loss: 0.2872 - val_accuracy: 0.8839 - lr: 0.0025\n",
            "Epoch 26/50\n",
            "120/120 [==============================] - ETA: 0s - loss: 0.2914 - accuracy: 0.8808\n",
            "Epoch 26: val_accuracy did not improve from 0.89010\n",
            "120/120 [==============================] - 103s 859ms/step - loss: 0.2914 - accuracy: 0.8808 - val_loss: 0.2935 - val_accuracy: 0.8833 - lr: 0.0025\n",
            "Epoch 27/50\n",
            "120/120 [==============================] - ETA: 0s - loss: 0.2879 - accuracy: 0.8856\n",
            "Epoch 27: val_accuracy did not improve from 0.89010\n",
            "120/120 [==============================] - 105s 872ms/step - loss: 0.2879 - accuracy: 0.8856 - val_loss: 0.2772 - val_accuracy: 0.8896 - lr: 0.0025\n",
            "Epoch 28/50\n",
            "120/120 [==============================] - ETA: 0s - loss: 0.2817 - accuracy: 0.8837\n",
            "Epoch 28: val_accuracy did not improve from 0.89010\n",
            "120/120 [==============================] - 105s 873ms/step - loss: 0.2817 - accuracy: 0.8837 - val_loss: 0.3353 - val_accuracy: 0.8651 - lr: 0.0025\n",
            "Epoch 29/50\n",
            "120/120 [==============================] - ETA: 0s - loss: 0.2759 - accuracy: 0.8878\n",
            "Epoch 29: val_accuracy improved from 0.89010 to 0.89062, saving model to best_model.h5\n",
            "120/120 [==============================] - 104s 861ms/step - loss: 0.2759 - accuracy: 0.8878 - val_loss: 0.2718 - val_accuracy: 0.8906 - lr: 0.0025\n",
            "Epoch 30/50\n",
            "120/120 [==============================] - ETA: 0s - loss: 0.2768 - accuracy: 0.8886\n",
            "Epoch 30: val_accuracy improved from 0.89062 to 0.89688, saving model to best_model.h5\n",
            "120/120 [==============================] - 105s 878ms/step - loss: 0.2768 - accuracy: 0.8886 - val_loss: 0.2697 - val_accuracy: 0.8969 - lr: 0.0012\n",
            "Epoch 31/50\n",
            "120/120 [==============================] - ETA: 0s - loss: 0.2623 - accuracy: 0.8959\n",
            "Epoch 31: val_accuracy did not improve from 0.89688\n",
            "120/120 [==============================] - 104s 869ms/step - loss: 0.2623 - accuracy: 0.8959 - val_loss: 0.2686 - val_accuracy: 0.8948 - lr: 0.0012\n",
            "Epoch 32/50\n",
            "120/120 [==============================] - ETA: 0s - loss: 0.2684 - accuracy: 0.8888\n",
            "Epoch 32: val_accuracy did not improve from 0.89688\n",
            "120/120 [==============================] - 106s 884ms/step - loss: 0.2684 - accuracy: 0.8888 - val_loss: 0.2701 - val_accuracy: 0.8901 - lr: 0.0012\n",
            "Epoch 33/50\n",
            "120/120 [==============================] - ETA: 0s - loss: 0.2701 - accuracy: 0.8927\n",
            "Epoch 33: val_accuracy did not improve from 0.89688\n",
            "120/120 [==============================] - 104s 865ms/step - loss: 0.2701 - accuracy: 0.8927 - val_loss: 0.2738 - val_accuracy: 0.8901 - lr: 0.0012\n",
            "Epoch 34/50\n",
            "120/120 [==============================] - ETA: 0s - loss: 0.2662 - accuracy: 0.8924\n",
            "Epoch 34: val_accuracy did not improve from 0.89688\n",
            "120/120 [==============================] - 103s 857ms/step - loss: 0.2662 - accuracy: 0.8924 - val_loss: 0.2675 - val_accuracy: 0.8885 - lr: 0.0012\n",
            "Epoch 35/50\n",
            "120/120 [==============================] - ETA: 0s - loss: 0.2709 - accuracy: 0.8911\n",
            "Epoch 35: val_accuracy did not improve from 0.89688\n",
            "120/120 [==============================] - 106s 881ms/step - loss: 0.2709 - accuracy: 0.8911 - val_loss: 0.2766 - val_accuracy: 0.8932 - lr: 0.0012\n",
            "Epoch 36/50\n",
            "120/120 [==============================] - ETA: 0s - loss: 0.2702 - accuracy: 0.8904\n",
            "Epoch 36: val_accuracy did not improve from 0.89688\n",
            "120/120 [==============================] - 103s 860ms/step - loss: 0.2702 - accuracy: 0.8904 - val_loss: 0.2721 - val_accuracy: 0.8865 - lr: 0.0012\n",
            "Epoch 37/50\n",
            "120/120 [==============================] - ETA: 0s - loss: 0.2648 - accuracy: 0.8949\n",
            "Epoch 37: val_accuracy did not improve from 0.89688\n",
            "120/120 [==============================] - 104s 871ms/step - loss: 0.2648 - accuracy: 0.8949 - val_loss: 0.2727 - val_accuracy: 0.8885 - lr: 0.0012\n",
            "Epoch 38/50\n",
            "120/120 [==============================] - ETA: 0s - loss: 0.2679 - accuracy: 0.8938\n",
            "Epoch 38: val_accuracy did not improve from 0.89688\n",
            "120/120 [==============================] - 103s 861ms/step - loss: 0.2679 - accuracy: 0.8938 - val_loss: 0.2703 - val_accuracy: 0.8875 - lr: 0.0012\n",
            "Epoch 39/50\n",
            "120/120 [==============================] - ETA: 0s - loss: 0.2630 - accuracy: 0.8933\n",
            "Epoch 39: val_accuracy did not improve from 0.89688\n",
            "120/120 [==============================] - 109s 908ms/step - loss: 0.2630 - accuracy: 0.8933 - val_loss: 0.2765 - val_accuracy: 0.8870 - lr: 0.0012\n",
            "Epoch 40/50\n",
            "120/120 [==============================] - ETA: 0s - loss: 0.2627 - accuracy: 0.8913\n",
            "Epoch 40: val_accuracy did not improve from 0.89688\n",
            "120/120 [==============================] - 109s 907ms/step - loss: 0.2627 - accuracy: 0.8913 - val_loss: 0.2703 - val_accuracy: 0.8901 - lr: 6.2500e-04\n",
            "Epoch 41/50\n",
            "120/120 [==============================] - ETA: 0s - loss: 0.2673 - accuracy: 0.8894\n",
            "Epoch 41: val_accuracy did not improve from 0.89688\n",
            "120/120 [==============================] - 103s 861ms/step - loss: 0.2673 - accuracy: 0.8894 - val_loss: 0.2722 - val_accuracy: 0.8875 - lr: 6.2500e-04\n",
            "Epoch 42/50\n",
            "120/120 [==============================] - ETA: 0s - loss: 0.2584 - accuracy: 0.8920\n",
            "Epoch 42: val_accuracy did not improve from 0.89688\n",
            "120/120 [==============================] - 104s 870ms/step - loss: 0.2584 - accuracy: 0.8920 - val_loss: 0.2684 - val_accuracy: 0.8880 - lr: 6.2500e-04\n",
            "Epoch 43/50\n",
            "120/120 [==============================] - ETA: 0s - loss: 0.2641 - accuracy: 0.8912\n",
            "Epoch 43: val_accuracy did not improve from 0.89688\n",
            "120/120 [==============================] - 102s 851ms/step - loss: 0.2641 - accuracy: 0.8912 - val_loss: 0.2683 - val_accuracy: 0.8901 - lr: 6.2500e-04\n",
            "Epoch 44/50\n",
            "120/120 [==============================] - ETA: 0s - loss: 0.2577 - accuracy: 0.8959\n",
            "Epoch 44: val_accuracy did not improve from 0.89688\n",
            "120/120 [==============================] - 104s 865ms/step - loss: 0.2577 - accuracy: 0.8959 - val_loss: 0.2679 - val_accuracy: 0.8927 - lr: 6.2500e-04\n"
          ]
        }
      ]
    },
    {
      "cell_type": "markdown",
      "source": [
        "#Fine-tune"
      ],
      "metadata": {
        "id": "AbyAUz8ZI_al"
      }
    },
    {
      "cell_type": "code",
      "source": [
        "import math\n",
        "from tensorflow.keras.callbacks import EarlyStopping, LearningRateScheduler, ModelCheckpoint\n",
        "\n",
        "# Evaluate the model on the test set\n",
        "test_loss, test_acc = model.evaluate(test_generator, steps=test_generator.samples // test_generator.batch_size)\n",
        "print(f'Test accuracy: {test_acc*100:.2f}%')\n",
        "\n",
        "def fine_tune_model(model, base_model, fine_tune_start_layer=100):\n",
        "    \"\"\"\n",
        "    Unfreeze the top layers of the model and compile the model for fine-tuning.\n",
        "    \"\"\"\n",
        "    base_model.trainable = True\n",
        "\n",
        "    # Freeze all the layers before the `fine_tune_start_layer`\n",
        "    for layer in base_model.layers[:fine_tune_start_layer]:\n",
        "        layer.trainable = False\n",
        "\n",
        "    model.compile(optimizer=tf.keras.optimizers.RMSprop(lr=1e-5),  # Lower learning rate\n",
        "                  loss='binary_crossentropy',\n",
        "                  metrics=['accuracy'])\n",
        "\n",
        "    return model\n",
        "\n",
        "# Example usage\n",
        "if test_acc < 0.95:\n",
        "    fine_tune_at = 154  # Experiment with this value\n",
        "    model_fine = fine_tune_model(model, base_model, fine_tune_at)\n",
        "\n",
        "    def step_decay(epoch):\n",
        "        initial_lr = 1e-2  # Starting learning rate\n",
        "        drop = 0.5  # Reduce learning rate by half\n",
        "        epochs_drop = 10.0  # Reduce every 10 epochs\n",
        "        lr = initial_lr * math.pow(drop, math.floor((1+epoch)/epochs_drop))\n",
        "        return lr\n",
        "\n",
        "    # Define early stopping and learning rate scheduler\n",
        "    early_stopping = tf.keras.callbacks.EarlyStopping(monitor='val_loss', patience=10, restore_best_weights=True)\n",
        "    lr_scheduler = tf.keras.callbacks.LearningRateScheduler(step_decay)\n",
        "\n",
        "\n",
        "\n",
        "    # Model Checkpoint\n",
        "    model_fine_checkpoint = ModelCheckpoint('fine_best_model.h5', monitor='val_accuracy', save_best_only=True, mode='max', verbose=1)\n",
        "\n",
        "\n",
        "    history_fine = model_fine.fit(train_generator,\n",
        "                             steps_per_epoch=train_generator.samples // train_generator.batch_size,\n",
        "                             epochs=20,  # You might need more epochs\n",
        "                             validation_data=validation_generator,\n",
        "                             validation_steps=validation_generator.samples // validation_generator.batch_size,\n",
        "                             callbacks=[early_stopping, lr_scheduler, model_fine_checkpoint])\n"
      ],
      "metadata": {
        "colab": {
          "base_uri": "https://localhost:8080/"
        },
        "id": "vvoK2OTCOwYl",
        "outputId": "46a4b7a3-cbec-47b5-b0ab-6c6dc7711eac"
      },
      "execution_count": null,
      "outputs": [
        {
          "output_type": "stream",
          "name": "stdout",
          "text": [
            "15/15 [==============================] - 8s 183ms/step - loss: 0.9091 - accuracy: 0.5042\n"
          ]
        },
        {
          "output_type": "stream",
          "name": "stderr",
          "text": [
            "WARNING:absl:`lr` is deprecated in Keras optimizer, please use `learning_rate` or use the legacy optimizer, e.g.,tf.keras.optimizers.legacy.RMSprop.\n"
          ]
        },
        {
          "output_type": "stream",
          "name": "stdout",
          "text": [
            "Test accuracy: 50.42%\n",
            "Epoch 1/20\n",
            "120/120 [==============================] - ETA: 0s - loss: 0.6203 - accuracy: 0.7869\n",
            "Epoch 1: val_accuracy improved from -inf to 0.83281, saving model to fine_best_model.h5\n"
          ]
        },
        {
          "output_type": "stream",
          "name": "stderr",
          "text": [
            "/usr/local/lib/python3.10/dist-packages/keras/src/engine/training.py:3103: UserWarning: You are saving your model as an HDF5 file via `model.save()`. This file format is considered legacy. We recommend using instead the native Keras format, e.g. `model.save('my_model.keras')`.\n",
            "  saving_api.save_model(\n"
          ]
        },
        {
          "output_type": "stream",
          "name": "stdout",
          "text": [
            "\b\b\b\b\b\b\b\b\b\b\b\b\b\b\b\b\b\b\b\b\b\b\b\b\b\b\b\b\b\b\b\b\b\b\b\b\b\b\b\b\b\b\b\b\b\b\b\b\b\b\b\b\b\b\b\b\b\b\b\b\b\b\b\b\b\b\b\b\b\b\b\b\b\b\b\b\b\b\b\b\b\b\b\b\r120/120 [==============================] - 121s 969ms/step - loss: 0.6203 - accuracy: 0.7869 - val_loss: 0.5273 - val_accuracy: 0.8328 - lr: 0.0100\n",
            "Epoch 2/20\n",
            "120/120 [==============================] - ETA: 0s - loss: 0.4998 - accuracy: 0.8287\n",
            "Epoch 2: val_accuracy did not improve from 0.83281\n",
            "120/120 [==============================] - 112s 931ms/step - loss: 0.4998 - accuracy: 0.8287 - val_loss: 0.5857 - val_accuracy: 0.7880 - lr: 0.0100\n",
            "Epoch 3/20\n",
            "120/120 [==============================] - ETA: 0s - loss: 0.4796 - accuracy: 0.8400\n",
            "Epoch 3: val_accuracy did not improve from 0.83281\n",
            "120/120 [==============================] - 113s 939ms/step - loss: 0.4796 - accuracy: 0.8400 - val_loss: 0.6055 - val_accuracy: 0.7922 - lr: 0.0100\n",
            "Epoch 4/20\n",
            "120/120 [==============================] - ETA: 0s - loss: 0.4618 - accuracy: 0.8471\n",
            "Epoch 4: val_accuracy improved from 0.83281 to 0.86771, saving model to fine_best_model.h5\n",
            "120/120 [==============================] - 112s 938ms/step - loss: 0.4618 - accuracy: 0.8471 - val_loss: 0.3925 - val_accuracy: 0.8677 - lr: 0.0100\n",
            "Epoch 5/20\n",
            "120/120 [==============================] - ETA: 0s - loss: 0.4684 - accuracy: 0.8420\n",
            "Epoch 5: val_accuracy improved from 0.86771 to 0.89010, saving model to fine_best_model.h5\n",
            "120/120 [==============================] - 113s 941ms/step - loss: 0.4684 - accuracy: 0.8420 - val_loss: 0.3004 - val_accuracy: 0.8901 - lr: 0.0100\n",
            "Epoch 6/20\n",
            "120/120 [==============================] - ETA: 0s - loss: 0.4599 - accuracy: 0.8512\n",
            "Epoch 6: val_accuracy did not improve from 0.89010\n",
            "120/120 [==============================] - 112s 933ms/step - loss: 0.4599 - accuracy: 0.8512 - val_loss: 0.5143 - val_accuracy: 0.8099 - lr: 0.0100\n",
            "Epoch 7/20\n",
            "120/120 [==============================] - ETA: 0s - loss: 0.4566 - accuracy: 0.8459\n",
            "Epoch 7: val_accuracy did not improve from 0.89010\n",
            "120/120 [==============================] - 113s 941ms/step - loss: 0.4566 - accuracy: 0.8459 - val_loss: 0.3103 - val_accuracy: 0.8880 - lr: 0.0100\n",
            "Epoch 8/20\n",
            "120/120 [==============================] - ETA: 0s - loss: 0.4459 - accuracy: 0.8545\n",
            "Epoch 8: val_accuracy did not improve from 0.89010\n",
            "120/120 [==============================] - 111s 925ms/step - loss: 0.4459 - accuracy: 0.8545 - val_loss: 0.3132 - val_accuracy: 0.8880 - lr: 0.0100\n",
            "Epoch 9/20\n",
            "120/120 [==============================] - ETA: 0s - loss: 0.4528 - accuracy: 0.8479\n",
            "Epoch 9: val_accuracy did not improve from 0.89010\n",
            "120/120 [==============================] - 112s 932ms/step - loss: 0.4528 - accuracy: 0.8479 - val_loss: 0.3122 - val_accuracy: 0.8844 - lr: 0.0100\n",
            "Epoch 10/20\n",
            "120/120 [==============================] - ETA: 0s - loss: 0.3314 - accuracy: 0.8743\n",
            "Epoch 10: val_accuracy improved from 0.89010 to 0.89323, saving model to fine_best_model.h5\n",
            "120/120 [==============================] - 119s 988ms/step - loss: 0.3314 - accuracy: 0.8743 - val_loss: 0.2856 - val_accuracy: 0.8932 - lr: 0.0050\n",
            "Epoch 11/20\n",
            "120/120 [==============================] - ETA: 0s - loss: 0.3414 - accuracy: 0.8709\n",
            "Epoch 11: val_accuracy did not improve from 0.89323\n",
            "120/120 [==============================] - 112s 932ms/step - loss: 0.3414 - accuracy: 0.8709 - val_loss: 0.2789 - val_accuracy: 0.8870 - lr: 0.0050\n",
            "Epoch 12/20\n",
            "120/120 [==============================] - ETA: 0s - loss: 0.3451 - accuracy: 0.8650\n",
            "Epoch 12: val_accuracy did not improve from 0.89323\n",
            "120/120 [==============================] - 111s 929ms/step - loss: 0.3451 - accuracy: 0.8650 - val_loss: 0.2925 - val_accuracy: 0.8870 - lr: 0.0050\n",
            "Epoch 13/20\n",
            "120/120 [==============================] - ETA: 0s - loss: 0.3306 - accuracy: 0.8692\n",
            "Epoch 13: val_accuracy improved from 0.89323 to 0.89583, saving model to fine_best_model.h5\n",
            "120/120 [==============================] - 117s 976ms/step - loss: 0.3306 - accuracy: 0.8692 - val_loss: 0.2795 - val_accuracy: 0.8958 - lr: 0.0050\n",
            "Epoch 14/20\n",
            "120/120 [==============================] - ETA: 0s - loss: 0.3183 - accuracy: 0.8764\n",
            "Epoch 14: val_accuracy did not improve from 0.89583\n",
            "120/120 [==============================] - 112s 934ms/step - loss: 0.3183 - accuracy: 0.8764 - val_loss: 0.2869 - val_accuracy: 0.8901 - lr: 0.0050\n",
            "Epoch 15/20\n",
            "120/120 [==============================] - ETA: 0s - loss: 0.3243 - accuracy: 0.8730\n",
            "Epoch 15: val_accuracy did not improve from 0.89583\n",
            "120/120 [==============================] - 112s 932ms/step - loss: 0.3243 - accuracy: 0.8730 - val_loss: 0.2917 - val_accuracy: 0.8859 - lr: 0.0050\n",
            "Epoch 16/20\n",
            "120/120 [==============================] - ETA: 0s - loss: 0.3336 - accuracy: 0.8698\n",
            "Epoch 16: val_accuracy did not improve from 0.89583\n",
            "120/120 [==============================] - 112s 937ms/step - loss: 0.3336 - accuracy: 0.8698 - val_loss: 0.3496 - val_accuracy: 0.8656 - lr: 0.0050\n",
            "Epoch 17/20\n",
            "120/120 [==============================] - ETA: 0s - loss: 0.3154 - accuracy: 0.8793\n",
            "Epoch 17: val_accuracy did not improve from 0.89583\n",
            "120/120 [==============================] - 112s 938ms/step - loss: 0.3154 - accuracy: 0.8793 - val_loss: 0.3011 - val_accuracy: 0.8792 - lr: 0.0050\n",
            "Epoch 18/20\n",
            "120/120 [==============================] - ETA: 0s - loss: 0.3127 - accuracy: 0.8780\n",
            "Epoch 18: val_accuracy did not improve from 0.89583\n",
            "120/120 [==============================] - 111s 930ms/step - loss: 0.3127 - accuracy: 0.8780 - val_loss: 0.3093 - val_accuracy: 0.8833 - lr: 0.0050\n",
            "Epoch 19/20\n",
            "120/120 [==============================] - ETA: 0s - loss: 0.3217 - accuracy: 0.8780\n",
            "Epoch 19: val_accuracy did not improve from 0.89583\n",
            "120/120 [==============================] - 112s 932ms/step - loss: 0.3217 - accuracy: 0.8780 - val_loss: 0.5055 - val_accuracy: 0.8427 - lr: 0.0050\n",
            "Epoch 20/20\n",
            "120/120 [==============================] - ETA: 0s - loss: 0.2943 - accuracy: 0.8822\n",
            "Epoch 20: val_accuracy improved from 0.89583 to 0.89740, saving model to fine_best_model.h5\n",
            "120/120 [==============================] - 112s 934ms/step - loss: 0.2943 - accuracy: 0.8822 - val_loss: 0.2615 - val_accuracy: 0.8974 - lr: 0.0025\n"
          ]
        }
      ]
    },
    {
      "cell_type": "code",
      "source": [
        "# Evaluate the model on the test set\n",
        "test_loss, test_acc = model_fine.evaluate(test_generator, steps=test_generator.samples // test_generator.batch_size)\n",
        "print(f'Test accuracy: {test_acc*100:.2f}%')"
      ],
      "metadata": {
        "colab": {
          "base_uri": "https://localhost:8080/"
        },
        "id": "pyMIvHXyBB6W",
        "outputId": "dc7af56f-5193-4b82-abfd-e083248bb605"
      },
      "execution_count": null,
      "outputs": [
        {
          "output_type": "stream",
          "name": "stdout",
          "text": [
            "15/15 [==============================] - 3s 162ms/step - loss: 0.2405 - accuracy: 0.9104\n",
            "Test accuracy: 91.04%\n"
          ]
        }
      ]
    },
    {
      "cell_type": "markdown",
      "source": [
        "#Save"
      ],
      "metadata": {
        "id": "xj3HQtg9JLh7"
      }
    },
    {
      "cell_type": "code",
      "source": [
        "import tensorflow as tf\n",
        "\n",
        "# Convert the model\n",
        "converter = tf.lite.TFLiteConverter.from_keras_model(model_fine)\n",
        "tflite_model = converter.convert()\n",
        "\n",
        "# Save the converted model\n",
        "with open('model.tflite', 'wb') as f:\n",
        "    f.write(tflite_model)\n"
      ],
      "metadata": {
        "id": "YTi1Ril0QFyy",
        "colab": {
          "base_uri": "https://localhost:8080/"
        },
        "outputId": "7f680287-022e-4b4f-d159-b833d12fa4e2"
      },
      "execution_count": null,
      "outputs": [
        {
          "output_type": "stream",
          "name": "stderr",
          "text": [
            "WARNING:absl:`mobilenetv2_1.00_224_input` is not a valid tf.function parameter name. Sanitizing to `mobilenetv2_1_00_224_input`.\n",
            "WARNING:absl:`mobilenetv2_1.00_224_input` is not a valid tf.function parameter name. Sanitizing to `mobilenetv2_1_00_224_input`.\n"
          ]
        }
      ]
    }
  ]
}